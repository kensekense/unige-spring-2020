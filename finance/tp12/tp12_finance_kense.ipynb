{
 "cells": [
  {
   "cell_type": "markdown",
   "metadata": {},
   "source": [
    "# Computational Finance\n",
    "## Series 12\n",
    "Tientso Ning"
   ]
  },
  {
   "cell_type": "code",
   "execution_count": 75,
   "metadata": {},
   "outputs": [],
   "source": [
    "import numpy as np\n",
    "import pandas as pd"
   ]
  },
  {
   "cell_type": "code",
   "execution_count": 39,
   "metadata": {},
   "outputs": [],
   "source": [
    "def bond_price(coupon, ytm, face, periods, maturity):\n",
    "    '''\n",
    "    determine the present value of the bond\n",
    "    '''\n",
    "    vcoupons = 0\n",
    "    for i in range(periods):\n",
    "        vcoupons += coupon/((1+ytm)**periods)\n",
    "    vface = face/(1+ytm)**maturity\n",
    "    return vcoupons+vface"
   ]
  },
  {
   "cell_type": "code",
   "execution_count": 40,
   "metadata": {},
   "outputs": [
    {
     "name": "stdout",
     "output_type": "stream",
     "text": [
      "92.06569799177106\n"
     ]
    }
   ],
   "source": [
    "#YTM 10%, 3 years maturity, face 100, coupons 10% semi-annually\n",
    "print(bond_price(5,0.1,100,6,3))"
   ]
  },
  {
   "cell_type": "code",
   "execution_count": 10,
   "metadata": {},
   "outputs": [
    {
     "data": {
      "text/html": [
       "<div>\n",
       "<style scoped>\n",
       "    .dataframe tbody tr th:only-of-type {\n",
       "        vertical-align: middle;\n",
       "    }\n",
       "\n",
       "    .dataframe tbody tr th {\n",
       "        vertical-align: top;\n",
       "    }\n",
       "\n",
       "    .dataframe thead th {\n",
       "        text-align: right;\n",
       "    }\n",
       "</style>\n",
       "<table border=\"1\" class=\"dataframe\">\n",
       "  <thead>\n",
       "    <tr style=\"text-align: right;\">\n",
       "      <th></th>\n",
       "      <th>time</th>\n",
       "      <th>cash.flow</th>\n",
       "    </tr>\n",
       "  </thead>\n",
       "  <tbody>\n",
       "    <tr>\n",
       "      <th>0</th>\n",
       "      <td>0.5</td>\n",
       "      <td>5</td>\n",
       "    </tr>\n",
       "    <tr>\n",
       "      <th>1</th>\n",
       "      <td>1.0</td>\n",
       "      <td>5</td>\n",
       "    </tr>\n",
       "    <tr>\n",
       "      <th>2</th>\n",
       "      <td>1.5</td>\n",
       "      <td>5</td>\n",
       "    </tr>\n",
       "    <tr>\n",
       "      <th>3</th>\n",
       "      <td>2.0</td>\n",
       "      <td>5</td>\n",
       "    </tr>\n",
       "    <tr>\n",
       "      <th>4</th>\n",
       "      <td>2.5</td>\n",
       "      <td>5</td>\n",
       "    </tr>\n",
       "    <tr>\n",
       "      <th>5</th>\n",
       "      <td>3.0</td>\n",
       "      <td>105</td>\n",
       "    </tr>\n",
       "  </tbody>\n",
       "</table>\n",
       "</div>"
      ],
      "text/plain": [
       "   time  cash.flow\n",
       "0   0.5          5\n",
       "1   1.0          5\n",
       "2   1.5          5\n",
       "3   2.0          5\n",
       "4   2.5          5\n",
       "5   3.0        105"
      ]
     },
     "execution_count": 10,
     "metadata": {},
     "output_type": "execute_result"
    }
   ],
   "source": [
    "time = [0.5,1.0,1.5,2.0,2.5,3.0]\n",
    "coupon = [5,5,5,5,5,105]\n",
    "data = pd.DataFrame({\"time\":time, \"cash.flow\":coupon})\n",
    "data"
   ]
  },
  {
   "cell_type": "code",
   "execution_count": 11,
   "metadata": {},
   "outputs": [
    {
     "data": {
      "text/html": [
       "<div>\n",
       "<style scoped>\n",
       "    .dataframe tbody tr th:only-of-type {\n",
       "        vertical-align: middle;\n",
       "    }\n",
       "\n",
       "    .dataframe tbody tr th {\n",
       "        vertical-align: top;\n",
       "    }\n",
       "\n",
       "    .dataframe thead th {\n",
       "        text-align: right;\n",
       "    }\n",
       "</style>\n",
       "<table border=\"1\" class=\"dataframe\">\n",
       "  <thead>\n",
       "    <tr style=\"text-align: right;\">\n",
       "      <th></th>\n",
       "      <th>time</th>\n",
       "      <th>cash.flow</th>\n",
       "      <th>present.value</th>\n",
       "    </tr>\n",
       "  </thead>\n",
       "  <tbody>\n",
       "    <tr>\n",
       "      <th>0</th>\n",
       "      <td>0.5</td>\n",
       "      <td>5</td>\n",
       "      <td>4.756147</td>\n",
       "    </tr>\n",
       "    <tr>\n",
       "      <th>1</th>\n",
       "      <td>1.0</td>\n",
       "      <td>5</td>\n",
       "      <td>4.524187</td>\n",
       "    </tr>\n",
       "    <tr>\n",
       "      <th>2</th>\n",
       "      <td>1.5</td>\n",
       "      <td>5</td>\n",
       "      <td>4.303540</td>\n",
       "    </tr>\n",
       "    <tr>\n",
       "      <th>3</th>\n",
       "      <td>2.0</td>\n",
       "      <td>5</td>\n",
       "      <td>4.093654</td>\n",
       "    </tr>\n",
       "    <tr>\n",
       "      <th>4</th>\n",
       "      <td>2.5</td>\n",
       "      <td>5</td>\n",
       "      <td>3.894004</td>\n",
       "    </tr>\n",
       "    <tr>\n",
       "      <th>5</th>\n",
       "      <td>3.0</td>\n",
       "      <td>105</td>\n",
       "      <td>77.785913</td>\n",
       "    </tr>\n",
       "  </tbody>\n",
       "</table>\n",
       "</div>"
      ],
      "text/plain": [
       "   time  cash.flow  present.value\n",
       "0   0.5          5       4.756147\n",
       "1   1.0          5       4.524187\n",
       "2   1.5          5       4.303540\n",
       "3   2.0          5       4.093654\n",
       "4   2.5          5       3.894004\n",
       "5   3.0        105      77.785913"
      ]
     },
     "execution_count": 11,
     "metadata": {},
     "output_type": "execute_result"
    }
   ],
   "source": [
    "data[\"present.value\"] = data[\"cash.flow\"]*np.exp(-0.1*data[\"time\"])\n",
    "data"
   ]
  },
  {
   "cell_type": "code",
   "execution_count": 12,
   "metadata": {},
   "outputs": [
    {
     "data": {
      "text/plain": [
       "99.35744494713597"
      ]
     },
     "execution_count": 12,
     "metadata": {},
     "output_type": "execute_result"
    }
   ],
   "source": [
    "data[\"present.value\"].sum()"
   ]
  },
  {
   "cell_type": "code",
   "execution_count": 13,
   "metadata": {},
   "outputs": [
    {
     "data": {
      "text/html": [
       "<div>\n",
       "<style scoped>\n",
       "    .dataframe tbody tr th:only-of-type {\n",
       "        vertical-align: middle;\n",
       "    }\n",
       "\n",
       "    .dataframe tbody tr th {\n",
       "        vertical-align: top;\n",
       "    }\n",
       "\n",
       "    .dataframe thead th {\n",
       "        text-align: right;\n",
       "    }\n",
       "</style>\n",
       "<table border=\"1\" class=\"dataframe\">\n",
       "  <thead>\n",
       "    <tr style=\"text-align: right;\">\n",
       "      <th></th>\n",
       "      <th>time</th>\n",
       "      <th>cash.flow</th>\n",
       "      <th>present.value</th>\n",
       "      <th>weight</th>\n",
       "    </tr>\n",
       "  </thead>\n",
       "  <tbody>\n",
       "    <tr>\n",
       "      <th>0</th>\n",
       "      <td>0.5</td>\n",
       "      <td>5</td>\n",
       "      <td>4.756147</td>\n",
       "      <td>0.047869</td>\n",
       "    </tr>\n",
       "    <tr>\n",
       "      <th>1</th>\n",
       "      <td>1.0</td>\n",
       "      <td>5</td>\n",
       "      <td>4.524187</td>\n",
       "      <td>0.045534</td>\n",
       "    </tr>\n",
       "    <tr>\n",
       "      <th>2</th>\n",
       "      <td>1.5</td>\n",
       "      <td>5</td>\n",
       "      <td>4.303540</td>\n",
       "      <td>0.043314</td>\n",
       "    </tr>\n",
       "    <tr>\n",
       "      <th>3</th>\n",
       "      <td>2.0</td>\n",
       "      <td>5</td>\n",
       "      <td>4.093654</td>\n",
       "      <td>0.041201</td>\n",
       "    </tr>\n",
       "    <tr>\n",
       "      <th>4</th>\n",
       "      <td>2.5</td>\n",
       "      <td>5</td>\n",
       "      <td>3.894004</td>\n",
       "      <td>0.039192</td>\n",
       "    </tr>\n",
       "    <tr>\n",
       "      <th>5</th>\n",
       "      <td>3.0</td>\n",
       "      <td>105</td>\n",
       "      <td>77.785913</td>\n",
       "      <td>0.782890</td>\n",
       "    </tr>\n",
       "  </tbody>\n",
       "</table>\n",
       "</div>"
      ],
      "text/plain": [
       "   time  cash.flow  present.value    weight\n",
       "0   0.5          5       4.756147  0.047869\n",
       "1   1.0          5       4.524187  0.045534\n",
       "2   1.5          5       4.303540  0.043314\n",
       "3   2.0          5       4.093654  0.041201\n",
       "4   2.5          5       3.894004  0.039192\n",
       "5   3.0        105      77.785913  0.782890"
      ]
     },
     "execution_count": 13,
     "metadata": {},
     "output_type": "execute_result"
    }
   ],
   "source": [
    "data[\"weight\"] = data[\"present.value\"]/data[\"present.value\"].sum()\n",
    "data"
   ]
  },
  {
   "cell_type": "code",
   "execution_count": 19,
   "metadata": {},
   "outputs": [
    {
     "data": {
      "text/html": [
       "<div>\n",
       "<style scoped>\n",
       "    .dataframe tbody tr th:only-of-type {\n",
       "        vertical-align: middle;\n",
       "    }\n",
       "\n",
       "    .dataframe tbody tr th {\n",
       "        vertical-align: top;\n",
       "    }\n",
       "\n",
       "    .dataframe thead th {\n",
       "        text-align: right;\n",
       "    }\n",
       "</style>\n",
       "<table border=\"1\" class=\"dataframe\">\n",
       "  <thead>\n",
       "    <tr style=\"text-align: right;\">\n",
       "      <th></th>\n",
       "      <th>time</th>\n",
       "      <th>cash.flow</th>\n",
       "      <th>present.value</th>\n",
       "      <th>weight</th>\n",
       "      <th>time.weight</th>\n",
       "    </tr>\n",
       "  </thead>\n",
       "  <tbody>\n",
       "    <tr>\n",
       "      <th>0</th>\n",
       "      <td>0.5</td>\n",
       "      <td>5</td>\n",
       "      <td>4.756147</td>\n",
       "      <td>0.047869</td>\n",
       "      <td>0.023935</td>\n",
       "    </tr>\n",
       "    <tr>\n",
       "      <th>1</th>\n",
       "      <td>1.0</td>\n",
       "      <td>5</td>\n",
       "      <td>4.524187</td>\n",
       "      <td>0.045534</td>\n",
       "      <td>0.045534</td>\n",
       "    </tr>\n",
       "    <tr>\n",
       "      <th>2</th>\n",
       "      <td>1.5</td>\n",
       "      <td>5</td>\n",
       "      <td>4.303540</td>\n",
       "      <td>0.043314</td>\n",
       "      <td>0.064971</td>\n",
       "    </tr>\n",
       "    <tr>\n",
       "      <th>3</th>\n",
       "      <td>2.0</td>\n",
       "      <td>5</td>\n",
       "      <td>4.093654</td>\n",
       "      <td>0.041201</td>\n",
       "      <td>0.082403</td>\n",
       "    </tr>\n",
       "    <tr>\n",
       "      <th>4</th>\n",
       "      <td>2.5</td>\n",
       "      <td>5</td>\n",
       "      <td>3.894004</td>\n",
       "      <td>0.039192</td>\n",
       "      <td>0.097980</td>\n",
       "    </tr>\n",
       "    <tr>\n",
       "      <th>5</th>\n",
       "      <td>3.0</td>\n",
       "      <td>105</td>\n",
       "      <td>77.785913</td>\n",
       "      <td>0.782890</td>\n",
       "      <td>2.348669</td>\n",
       "    </tr>\n",
       "  </tbody>\n",
       "</table>\n",
       "</div>"
      ],
      "text/plain": [
       "   time  cash.flow  present.value    weight  time.weight\n",
       "0   0.5          5       4.756147  0.047869     0.023935\n",
       "1   1.0          5       4.524187  0.045534     0.045534\n",
       "2   1.5          5       4.303540  0.043314     0.064971\n",
       "3   2.0          5       4.093654  0.041201     0.082403\n",
       "4   2.5          5       3.894004  0.039192     0.097980\n",
       "5   3.0        105      77.785913  0.782890     2.348669"
      ]
     },
     "execution_count": 19,
     "metadata": {},
     "output_type": "execute_result"
    }
   ],
   "source": [
    "data[\"time.weight\"] = data[\"time\"]*data[\"weight\"]\n",
    "data"
   ]
  },
  {
   "cell_type": "code",
   "execution_count": 41,
   "metadata": {},
   "outputs": [
    {
     "name": "stdout",
     "output_type": "stream",
     "text": [
      "Duration is:  2.6634906669483684\n"
     ]
    }
   ],
   "source": [
    "print(\"Duration is: \",data[\"time.weight\"].sum())"
   ]
  },
  {
   "cell_type": "code",
   "execution_count": 68,
   "metadata": {},
   "outputs": [
    {
     "data": {
      "text/plain": [
       "26.634906669483676"
      ]
     },
     "execution_count": 68,
     "metadata": {},
     "output_type": "execute_result"
    }
   ],
   "source": [
    "B = data[\"present.value\"].sum()\n",
    "d = data[\"time.weight\"].sum()\n",
    "r = 0.10\n",
    "C = ((d**2)*B*r)/(B*d*(r**2))\n",
    "C"
   ]
  },
  {
   "cell_type": "code",
   "execution_count": 25,
   "metadata": {},
   "outputs": [
    {
     "data": {
      "text/html": [
       "<div>\n",
       "<style scoped>\n",
       "    .dataframe tbody tr th:only-of-type {\n",
       "        vertical-align: middle;\n",
       "    }\n",
       "\n",
       "    .dataframe tbody tr th {\n",
       "        vertical-align: top;\n",
       "    }\n",
       "\n",
       "    .dataframe thead th {\n",
       "        text-align: right;\n",
       "    }\n",
       "</style>\n",
       "<table border=\"1\" class=\"dataframe\">\n",
       "  <thead>\n",
       "    <tr style=\"text-align: right;\">\n",
       "      <th></th>\n",
       "      <th>time</th>\n",
       "      <th>cash.flow</th>\n",
       "      <th>present.value</th>\n",
       "      <th>weight</th>\n",
       "      <th>time.weight</th>\n",
       "      <th>0.1shift</th>\n",
       "    </tr>\n",
       "  </thead>\n",
       "  <tbody>\n",
       "    <tr>\n",
       "      <th>0</th>\n",
       "      <td>0.5</td>\n",
       "      <td>5</td>\n",
       "      <td>4.756147</td>\n",
       "      <td>0.047869</td>\n",
       "      <td>0.023935</td>\n",
       "      <td>4.753770</td>\n",
       "    </tr>\n",
       "    <tr>\n",
       "      <th>1</th>\n",
       "      <td>1.0</td>\n",
       "      <td>5</td>\n",
       "      <td>4.524187</td>\n",
       "      <td>0.045534</td>\n",
       "      <td>0.045534</td>\n",
       "      <td>4.519665</td>\n",
       "    </tr>\n",
       "    <tr>\n",
       "      <th>2</th>\n",
       "      <td>1.5</td>\n",
       "      <td>5</td>\n",
       "      <td>4.303540</td>\n",
       "      <td>0.043314</td>\n",
       "      <td>0.064971</td>\n",
       "      <td>4.297089</td>\n",
       "    </tr>\n",
       "    <tr>\n",
       "      <th>3</th>\n",
       "      <td>2.0</td>\n",
       "      <td>5</td>\n",
       "      <td>4.093654</td>\n",
       "      <td>0.041201</td>\n",
       "      <td>0.082403</td>\n",
       "      <td>4.085475</td>\n",
       "    </tr>\n",
       "    <tr>\n",
       "      <th>4</th>\n",
       "      <td>2.5</td>\n",
       "      <td>5</td>\n",
       "      <td>3.894004</td>\n",
       "      <td>0.039192</td>\n",
       "      <td>0.097980</td>\n",
       "      <td>3.884281</td>\n",
       "    </tr>\n",
       "    <tr>\n",
       "      <th>5</th>\n",
       "      <td>3.0</td>\n",
       "      <td>105</td>\n",
       "      <td>77.785913</td>\n",
       "      <td>0.782890</td>\n",
       "      <td>2.348669</td>\n",
       "      <td>77.552905</td>\n",
       "    </tr>\n",
       "  </tbody>\n",
       "</table>\n",
       "</div>"
      ],
      "text/plain": [
       "   time  cash.flow  present.value    weight  time.weight   0.1shift\n",
       "0   0.5          5       4.756147  0.047869     0.023935   4.753770\n",
       "1   1.0          5       4.524187  0.045534     0.045534   4.519665\n",
       "2   1.5          5       4.303540  0.043314     0.064971   4.297089\n",
       "3   2.0          5       4.093654  0.041201     0.082403   4.085475\n",
       "4   2.5          5       3.894004  0.039192     0.097980   3.884281\n",
       "5   3.0        105      77.785913  0.782890     2.348669  77.552905"
      ]
     },
     "execution_count": 25,
     "metadata": {},
     "output_type": "execute_result"
    }
   ],
   "source": [
    "data[\"0.1shift\"] = data[\"cash.flow\"]*np.exp(-0.101*data[\"time\"])\n",
    "data"
   ]
  },
  {
   "cell_type": "code",
   "execution_count": 27,
   "metadata": {},
   "outputs": [
    {
     "name": "stdout",
     "output_type": "stream",
     "text": [
      "99.093185041964\n"
     ]
    }
   ],
   "source": [
    "print(data[\"0.1shift\"].sum())"
   ]
  },
  {
   "cell_type": "code",
   "execution_count": 28,
   "metadata": {},
   "outputs": [
    {
     "data": {
      "text/plain": [
       "-0.2642599051719685"
      ]
     },
     "execution_count": 28,
     "metadata": {},
     "output_type": "execute_result"
    }
   ],
   "source": [
    "99.093185041964-99.35744494713597"
   ]
  },
  {
   "cell_type": "code",
   "execution_count": 29,
   "metadata": {},
   "outputs": [
    {
     "data": {
      "text/plain": [
       "-0.26393377351745884"
      ]
     },
     "execution_count": 29,
     "metadata": {},
     "output_type": "execute_result"
    }
   ],
   "source": [
    "-99.093185041964*2.6634906669483684*0.001"
   ]
  },
  {
   "cell_type": "markdown",
   "metadata": {},
   "source": [
    "# TODO: are these two values close enough??"
   ]
  },
  {
   "cell_type": "code",
   "execution_count": 30,
   "metadata": {},
   "outputs": [
    {
     "data": {
      "text/html": [
       "<div>\n",
       "<style scoped>\n",
       "    .dataframe tbody tr th:only-of-type {\n",
       "        vertical-align: middle;\n",
       "    }\n",
       "\n",
       "    .dataframe tbody tr th {\n",
       "        vertical-align: top;\n",
       "    }\n",
       "\n",
       "    .dataframe thead th {\n",
       "        text-align: right;\n",
       "    }\n",
       "</style>\n",
       "<table border=\"1\" class=\"dataframe\">\n",
       "  <thead>\n",
       "    <tr style=\"text-align: right;\">\n",
       "      <th></th>\n",
       "      <th>time</th>\n",
       "      <th>cash.flow</th>\n",
       "      <th>present.value</th>\n",
       "      <th>weight</th>\n",
       "      <th>time.weight</th>\n",
       "      <th>0.1shift</th>\n",
       "      <th>1shift</th>\n",
       "    </tr>\n",
       "  </thead>\n",
       "  <tbody>\n",
       "    <tr>\n",
       "      <th>0</th>\n",
       "      <td>0.5</td>\n",
       "      <td>5</td>\n",
       "      <td>4.756147</td>\n",
       "      <td>0.047869</td>\n",
       "      <td>0.023935</td>\n",
       "      <td>4.753770</td>\n",
       "      <td>4.732426</td>\n",
       "    </tr>\n",
       "    <tr>\n",
       "      <th>1</th>\n",
       "      <td>1.0</td>\n",
       "      <td>5</td>\n",
       "      <td>4.524187</td>\n",
       "      <td>0.045534</td>\n",
       "      <td>0.045534</td>\n",
       "      <td>4.519665</td>\n",
       "      <td>4.479171</td>\n",
       "    </tr>\n",
       "    <tr>\n",
       "      <th>2</th>\n",
       "      <td>1.5</td>\n",
       "      <td>5</td>\n",
       "      <td>4.303540</td>\n",
       "      <td>0.043314</td>\n",
       "      <td>0.064971</td>\n",
       "      <td>4.297089</td>\n",
       "      <td>4.239469</td>\n",
       "    </tr>\n",
       "    <tr>\n",
       "      <th>3</th>\n",
       "      <td>2.0</td>\n",
       "      <td>5</td>\n",
       "      <td>4.093654</td>\n",
       "      <td>0.041201</td>\n",
       "      <td>0.082403</td>\n",
       "      <td>4.085475</td>\n",
       "      <td>4.012594</td>\n",
       "    </tr>\n",
       "    <tr>\n",
       "      <th>4</th>\n",
       "      <td>2.5</td>\n",
       "      <td>5</td>\n",
       "      <td>3.894004</td>\n",
       "      <td>0.039192</td>\n",
       "      <td>0.097980</td>\n",
       "      <td>3.884281</td>\n",
       "      <td>3.797861</td>\n",
       "    </tr>\n",
       "    <tr>\n",
       "      <th>5</th>\n",
       "      <td>3.0</td>\n",
       "      <td>105</td>\n",
       "      <td>77.785913</td>\n",
       "      <td>0.782890</td>\n",
       "      <td>2.348669</td>\n",
       "      <td>77.552905</td>\n",
       "      <td>75.486992</td>\n",
       "    </tr>\n",
       "  </tbody>\n",
       "</table>\n",
       "</div>"
      ],
      "text/plain": [
       "   time  cash.flow  present.value    weight  time.weight   0.1shift     1shift\n",
       "0   0.5          5       4.756147  0.047869     0.023935   4.753770   4.732426\n",
       "1   1.0          5       4.524187  0.045534     0.045534   4.519665   4.479171\n",
       "2   1.5          5       4.303540  0.043314     0.064971   4.297089   4.239469\n",
       "3   2.0          5       4.093654  0.041201     0.082403   4.085475   4.012594\n",
       "4   2.5          5       3.894004  0.039192     0.097980   3.884281   3.797861\n",
       "5   3.0        105      77.785913  0.782890     2.348669  77.552905  75.486992"
      ]
     },
     "execution_count": 30,
     "metadata": {},
     "output_type": "execute_result"
    }
   ],
   "source": [
    "data[\"1shift\"] = data[\"cash.flow\"]*np.exp(-0.11*data[\"time\"])\n",
    "data"
   ]
  },
  {
   "cell_type": "code",
   "execution_count": 31,
   "metadata": {},
   "outputs": [
    {
     "name": "stdout",
     "output_type": "stream",
     "text": [
      "96.74851155297912\n"
     ]
    }
   ],
   "source": [
    "print(data[\"1shift\"].sum())"
   ]
  },
  {
   "cell_type": "code",
   "execution_count": 34,
   "metadata": {},
   "outputs": [
    {
     "data": {
      "text/plain": [
       "-2.6089333941568498"
      ]
     },
     "execution_count": 34,
     "metadata": {},
     "output_type": "execute_result"
    }
   ],
   "source": [
    "96.74851155297912-99.35744494713597"
   ]
  },
  {
   "cell_type": "code",
   "execution_count": 33,
   "metadata": {},
   "outputs": [
    {
     "data": {
      "text/plain": [
       "-2.576887575625063"
      ]
     },
     "execution_count": 33,
     "metadata": {},
     "output_type": "execute_result"
    }
   ],
   "source": [
    "-96.74851155297912*2.6634906669483684*0.01"
   ]
  },
  {
   "cell_type": "markdown",
   "metadata": {},
   "source": [
    "# TODO: We expect these values to vary more"
   ]
  },
  {
   "cell_type": "code",
   "execution_count": 72,
   "metadata": {},
   "outputs": [
    {
     "name": "stdout",
     "output_type": "stream",
     "text": [
      "-0.2633144391719904\n",
      "vs\n",
      "-0.26393377351745884\n"
     ]
    }
   ],
   "source": [
    "print(-B*d*0.001+0.5*B*C*(0.001)**2)\n",
    "print(\"vs\")\n",
    "print(-0.26393377351745884)"
   ]
  },
  {
   "cell_type": "code",
   "execution_count": 73,
   "metadata": {},
   "outputs": [
    {
     "name": "stdout",
     "output_type": "stream",
     "text": [
      "-2.5140574594310636\n",
      "vs\n",
      "-2.576887575625063\n"
     ]
    }
   ],
   "source": [
    "print(-B*d*0.01+0.5*B*C*(0.01)**2)\n",
    "print(\"vs\")\n",
    "print(-2.576887575625063)"
   ]
  },
  {
   "cell_type": "markdown",
   "metadata": {},
   "source": [
    "# TODO: Why bother using an approximation??"
   ]
  }
 ],
 "metadata": {
  "kernelspec": {
   "display_name": "Python 3",
   "language": "python",
   "name": "python3"
  },
  "language_info": {
   "codemirror_mode": {
    "name": "ipython",
    "version": 3
   },
   "file_extension": ".py",
   "mimetype": "text/x-python",
   "name": "python",
   "nbconvert_exporter": "python",
   "pygments_lexer": "ipython3",
   "version": "3.6.9"
  }
 },
 "nbformat": 4,
 "nbformat_minor": 2
}
