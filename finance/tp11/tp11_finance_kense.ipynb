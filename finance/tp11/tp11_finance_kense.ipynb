{
 "cells": [
  {
   "cell_type": "markdown",
   "metadata": {},
   "source": [
    "# Computational Finance\n",
    "## Series 11\n",
    "Tientso Ning"
   ]
  },
  {
   "cell_type": "code",
   "execution_count": 1,
   "metadata": {},
   "outputs": [],
   "source": [
    "import numpy as np\n",
    "import pandas as pd\n",
    "import scipy.optimize as optimize\n",
    "import matplotlib.pyplot as plt"
   ]
  },
  {
   "cell_type": "code",
   "execution_count": 2,
   "metadata": {},
   "outputs": [
    {
     "name": "stdout",
     "output_type": "stream",
     "text": [
      "Required yield to sell at par (100$):  9.999999999999737 %\n"
     ]
    }
   ],
   "source": [
    "#bond with 3 years maturity, face value of 100$, and coupon of 0.10 paid semi-annually\n",
    "\n",
    "def YTM(price, par, T, coup, freq, step):\n",
    "    periods = T*freq\n",
    "    coupon = coup/100.*par/freq\n",
    "    dt = [(i+1)/freq for i in range(int(periods))]\n",
    "    ytm_ = lambda y: sum([coupon/(1+y/freq)**(freq*t) for t in dt]) + par/(1+y/freq)**(freq*T) - price\n",
    "    \n",
    "    return optimize.newton(ytm_, step)\n",
    "\n",
    "print(\"Required yield to sell at par (100$): \", YTM(100, 100, 3, 10, 2, 0.05)*100, \"%\")"
   ]
  },
  {
   "cell_type": "code",
   "execution_count": 3,
   "metadata": {},
   "outputs": [
    {
     "data": {
      "text/html": [
       "<div>\n",
       "<style scoped>\n",
       "    .dataframe tbody tr th:only-of-type {\n",
       "        vertical-align: middle;\n",
       "    }\n",
       "\n",
       "    .dataframe tbody tr th {\n",
       "        vertical-align: top;\n",
       "    }\n",
       "\n",
       "    .dataframe thead th {\n",
       "        text-align: right;\n",
       "    }\n",
       "</style>\n",
       "<table border=\"1\" class=\"dataframe\">\n",
       "  <thead>\n",
       "    <tr style=\"text-align: right;\">\n",
       "      <th></th>\n",
       "      <th>principal</th>\n",
       "      <th>maturity</th>\n",
       "      <th>coupon</th>\n",
       "      <th>price</th>\n",
       "    </tr>\n",
       "  </thead>\n",
       "  <tbody>\n",
       "    <tr>\n",
       "      <th>0</th>\n",
       "      <td>100</td>\n",
       "      <td>0.083333</td>\n",
       "      <td>0</td>\n",
       "      <td>99.80</td>\n",
       "    </tr>\n",
       "    <tr>\n",
       "      <th>1</th>\n",
       "      <td>100</td>\n",
       "      <td>0.166667</td>\n",
       "      <td>0</td>\n",
       "      <td>99.60</td>\n",
       "    </tr>\n",
       "    <tr>\n",
       "      <th>2</th>\n",
       "      <td>100</td>\n",
       "      <td>0.250000</td>\n",
       "      <td>0</td>\n",
       "      <td>99.40</td>\n",
       "    </tr>\n",
       "    <tr>\n",
       "      <th>3</th>\n",
       "      <td>100</td>\n",
       "      <td>0.500000</td>\n",
       "      <td>6</td>\n",
       "      <td>100.27</td>\n",
       "    </tr>\n",
       "    <tr>\n",
       "      <th>4</th>\n",
       "      <td>100</td>\n",
       "      <td>1.000000</td>\n",
       "      <td>8</td>\n",
       "      <td>101.57</td>\n",
       "    </tr>\n",
       "  </tbody>\n",
       "</table>\n",
       "</div>"
      ],
      "text/plain": [
       "   principal  maturity  coupon   price\n",
       "0        100  0.083333       0   99.80\n",
       "1        100  0.166667       0   99.60\n",
       "2        100  0.250000       0   99.40\n",
       "3        100  0.500000       6  100.27\n",
       "4        100  1.000000       8  101.57"
      ]
     },
     "execution_count": 3,
     "metadata": {},
     "output_type": "execute_result"
    }
   ],
   "source": [
    "principal = [100,100,100,100,100]\n",
    "maturity = [1/12,2/12,3/12,6/12,12/12]\n",
    "coupon = [0,0,0,6,8]\n",
    "price = [99.80,99.60,99.4,100.27,101.57]\n",
    "\n",
    "data = pd.DataFrame({\"principal\":principal, \"maturity\":maturity, \"coupon\":coupon, \"price\":price})\n",
    "data"
   ]
  },
  {
   "cell_type": "code",
   "execution_count": 4,
   "metadata": {},
   "outputs": [],
   "source": [
    "def spot_rate(par, price, maturity):\n",
    "    total_interest = par/price\n",
    "    spot = ((1/maturity)*np.log(total_interest))\n",
    "    total_interest = total_interest-1\n",
    "    return spot, total_interest"
   ]
  },
  {
   "cell_type": "code",
   "execution_count": 5,
   "metadata": {},
   "outputs": [],
   "source": [
    "data['spot_rate'] = data.apply(lambda x : spot_rate(x['principal'],x['price'],x['maturity'])[0], axis=1)"
   ]
  },
  {
   "cell_type": "code",
   "execution_count": 6,
   "metadata": {},
   "outputs": [
    {
     "data": {
      "text/html": [
       "<div>\n",
       "<style scoped>\n",
       "    .dataframe tbody tr th:only-of-type {\n",
       "        vertical-align: middle;\n",
       "    }\n",
       "\n",
       "    .dataframe tbody tr th {\n",
       "        vertical-align: top;\n",
       "    }\n",
       "\n",
       "    .dataframe thead th {\n",
       "        text-align: right;\n",
       "    }\n",
       "</style>\n",
       "<table border=\"1\" class=\"dataframe\">\n",
       "  <thead>\n",
       "    <tr style=\"text-align: right;\">\n",
       "      <th></th>\n",
       "      <th>principal</th>\n",
       "      <th>maturity</th>\n",
       "      <th>coupon</th>\n",
       "      <th>price</th>\n",
       "      <th>spot_rate</th>\n",
       "      <th>freq</th>\n",
       "    </tr>\n",
       "  </thead>\n",
       "  <tbody>\n",
       "    <tr>\n",
       "      <th>0</th>\n",
       "      <td>100</td>\n",
       "      <td>0.083333</td>\n",
       "      <td>0</td>\n",
       "      <td>99.80</td>\n",
       "      <td>0.024024</td>\n",
       "      <td>2</td>\n",
       "    </tr>\n",
       "    <tr>\n",
       "      <th>1</th>\n",
       "      <td>100</td>\n",
       "      <td>0.166667</td>\n",
       "      <td>0</td>\n",
       "      <td>99.60</td>\n",
       "      <td>0.024048</td>\n",
       "      <td>2</td>\n",
       "    </tr>\n",
       "    <tr>\n",
       "      <th>2</th>\n",
       "      <td>100</td>\n",
       "      <td>0.250000</td>\n",
       "      <td>0</td>\n",
       "      <td>99.40</td>\n",
       "      <td>0.024072</td>\n",
       "      <td>2</td>\n",
       "    </tr>\n",
       "    <tr>\n",
       "      <th>3</th>\n",
       "      <td>100</td>\n",
       "      <td>0.500000</td>\n",
       "      <td>6</td>\n",
       "      <td>100.27</td>\n",
       "      <td>-0.005393</td>\n",
       "      <td>2</td>\n",
       "    </tr>\n",
       "    <tr>\n",
       "      <th>4</th>\n",
       "      <td>100</td>\n",
       "      <td>1.000000</td>\n",
       "      <td>8</td>\n",
       "      <td>101.57</td>\n",
       "      <td>-0.015578</td>\n",
       "      <td>2</td>\n",
       "    </tr>\n",
       "  </tbody>\n",
       "</table>\n",
       "</div>"
      ],
      "text/plain": [
       "   principal  maturity  coupon   price  spot_rate  freq\n",
       "0        100  0.083333       0   99.80   0.024024     2\n",
       "1        100  0.166667       0   99.60   0.024048     2\n",
       "2        100  0.250000       0   99.40   0.024072     2\n",
       "3        100  0.500000       6  100.27  -0.005393     2\n",
       "4        100  1.000000       8  101.57  -0.015578     2"
      ]
     },
     "execution_count": 6,
     "metadata": {},
     "output_type": "execute_result"
    }
   ],
   "source": [
    "data['freq'] = [2,2,2,2,2]\n",
    "data"
   ]
  },
  {
   "cell_type": "markdown",
   "metadata": {},
   "source": [
    "But we have to take into account coupon payments"
   ]
  },
  {
   "cell_type": "code",
   "execution_count": 7,
   "metadata": {},
   "outputs": [],
   "source": [
    "def coupon_payment(coupon, freq, periods, data):\n",
    "    coupon_amount = coupon/freq\n",
    "    coupon_pay = 0\n",
    "    \n",
    "    for i in range(1, periods):\n",
    "        period = (i/freq)\n",
    "        period_spot = data.loc[data['maturity'] == period, 'spot_rate'].values\n",
    "        discounted_value = coupon_amount / np.exp(period_spot*period)\n",
    "        try:\n",
    "            coupon_pay += discounted_value[0]\n",
    "        except:\n",
    "            coupon_pay += 0\n",
    "    \n",
    "    return coupon_pay"
   ]
  },
  {
   "cell_type": "code",
   "execution_count": 8,
   "metadata": {},
   "outputs": [],
   "source": [
    "def spot_rate(par, price, maturity, coupon, freq, data):\n",
    "    coupon_pay = 0\n",
    "    \n",
    "    if coupon != 0:\n",
    "        periods = np.int(maturity*freq)\n",
    "        coupon_pay = coupon_payment(coupon, freq, periods, data)\n",
    "    \n",
    "    final_flow = par + coupon/freq if maturity%(1/freq) == 0 else par\n",
    "    \n",
    "    final_price = price - coupon_pay\n",
    "    \n",
    "    total_interest = final_flow/final_price\n",
    "    \n",
    "    spot = ((1/maturity)*np.log(total_interest))\n",
    "    \n",
    "    total_interest = total_interest-1\n",
    "    \n",
    "    return spot, total_interest"
   ]
  },
  {
   "cell_type": "code",
   "execution_count": 9,
   "metadata": {},
   "outputs": [
    {
     "name": "stderr",
     "output_type": "stream",
     "text": [
      "/home/kense/.local/lib/python3.6/site-packages/ipykernel_launcher.py:2: FutureWarning: set_value is deprecated and will be removed in a future release. Please use .at[] or .iat[] accessors instead\n",
      "  \n"
     ]
    }
   ],
   "source": [
    "for k, v in data.iterrows():\n",
    "    data.set_value(k, 'spot_rate', spot_rate(v['principal'],v['price'],v['maturity'],v['coupon'],v['freq'], data)[0])"
   ]
  },
  {
   "cell_type": "code",
   "execution_count": 10,
   "metadata": {},
   "outputs": [
    {
     "data": {
      "text/plain": [
       "Text(0.5, 1.0, 'Zero Curve')"
      ]
     },
     "execution_count": 10,
     "metadata": {},
     "output_type": "execute_result"
    },
    {
     "data": {
      "image/png": "[encoded data removed]",
      "text/plain": [
       "<Figure size 432x288 with 1 Axes>"
      ]
     },
     "metadata": {
      "needs_background": "light"
     },
     "output_type": "display_data"
    }
   ],
   "source": [
    "plt.plot(data['maturity'],data['spot_rate'])\n",
    "plt.xlabel(\"Maturity (Years)\")\n",
    "plt.ylabel(\"Spot Rate\")\n",
    "plt.title(\"Zero Curve\")"
   ]
  },
  {
   "cell_type": "code",
   "execution_count": 11,
   "metadata": {},
   "outputs": [
    {
     "data": {
      "text/html": [
       "<div>\n",
       "<style scoped>\n",
       "    .dataframe tbody tr th:only-of-type {\n",
       "        vertical-align: middle;\n",
       "    }\n",
       "\n",
       "    .dataframe tbody tr th {\n",
       "        vertical-align: top;\n",
       "    }\n",
       "\n",
       "    .dataframe thead th {\n",
       "        text-align: right;\n",
       "    }\n",
       "</style>\n",
       "<table border=\"1\" class=\"dataframe\">\n",
       "  <thead>\n",
       "    <tr style=\"text-align: right;\">\n",
       "      <th></th>\n",
       "      <th>principal</th>\n",
       "      <th>maturity</th>\n",
       "      <th>coupon</th>\n",
       "      <th>price</th>\n",
       "    </tr>\n",
       "  </thead>\n",
       "  <tbody>\n",
       "    <tr>\n",
       "      <th>0</th>\n",
       "      <td>100</td>\n",
       "      <td>2</td>\n",
       "      <td>4</td>\n",
       "      <td>103.21</td>\n",
       "    </tr>\n",
       "    <tr>\n",
       "      <th>1</th>\n",
       "      <td>100</td>\n",
       "      <td>3</td>\n",
       "      <td>4</td>\n",
       "      <td>104.85</td>\n",
       "    </tr>\n",
       "    <tr>\n",
       "      <th>2</th>\n",
       "      <td>100</td>\n",
       "      <td>4</td>\n",
       "      <td>4</td>\n",
       "      <td>106.36</td>\n",
       "    </tr>\n",
       "    <tr>\n",
       "      <th>3</th>\n",
       "      <td>100</td>\n",
       "      <td>5</td>\n",
       "      <td>4</td>\n",
       "      <td>107.77</td>\n",
       "    </tr>\n",
       "    <tr>\n",
       "      <th>4</th>\n",
       "      <td>100</td>\n",
       "      <td>7</td>\n",
       "      <td>0</td>\n",
       "      <td>84.48</td>\n",
       "    </tr>\n",
       "    <tr>\n",
       "      <th>5</th>\n",
       "      <td>100</td>\n",
       "      <td>10</td>\n",
       "      <td>0</td>\n",
       "      <td>77.72</td>\n",
       "    </tr>\n",
       "  </tbody>\n",
       "</table>\n",
       "</div>"
      ],
      "text/plain": [
       "   principal  maturity  coupon   price\n",
       "0        100         2       4  103.21\n",
       "1        100         3       4  104.85\n",
       "2        100         4       4  106.36\n",
       "3        100         5       4  107.77\n",
       "4        100         7       0   84.48\n",
       "5        100        10       0   77.72"
      ]
     },
     "execution_count": 11,
     "metadata": {},
     "output_type": "execute_result"
    }
   ],
   "source": [
    "principal = [100,100,100,100,100,100]\n",
    "maturity = [2,3,4,5,7,10]\n",
    "coupon = [4,4,4,4,0,0]\n",
    "price = [103.21,104.85,106.36,107.77,84.48,77.72]\n",
    "\n",
    "data = pd.DataFrame({\"principal\":principal, \"maturity\":maturity, \"coupon\":coupon, \"price\":price})\n",
    "data"
   ]
  },
  {
   "cell_type": "code",
   "execution_count": 12,
   "metadata": {},
   "outputs": [],
   "source": [
    "def spot_rate(par, price, maturity):\n",
    "    total_interest = par/price\n",
    "    spot = ((1/maturity)*np.log(total_interest))\n",
    "    total_interest = total_interest-1\n",
    "    return spot, total_interest"
   ]
  },
  {
   "cell_type": "code",
   "execution_count": 13,
   "metadata": {},
   "outputs": [],
   "source": [
    "data['spot_rate'] = data.apply(lambda x : spot_rate(x['principal'],x['price'],x['maturity'])[0], axis=1)"
   ]
  },
  {
   "cell_type": "code",
   "execution_count": 14,
   "metadata": {},
   "outputs": [
    {
     "data": {
      "text/html": [
       "<div>\n",
       "<style scoped>\n",
       "    .dataframe tbody tr th:only-of-type {\n",
       "        vertical-align: middle;\n",
       "    }\n",
       "\n",
       "    .dataframe tbody tr th {\n",
       "        vertical-align: top;\n",
       "    }\n",
       "\n",
       "    .dataframe thead th {\n",
       "        text-align: right;\n",
       "    }\n",
       "</style>\n",
       "<table border=\"1\" class=\"dataframe\">\n",
       "  <thead>\n",
       "    <tr style=\"text-align: right;\">\n",
       "      <th></th>\n",
       "      <th>principal</th>\n",
       "      <th>maturity</th>\n",
       "      <th>coupon</th>\n",
       "      <th>price</th>\n",
       "      <th>spot_rate</th>\n",
       "      <th>freq</th>\n",
       "    </tr>\n",
       "  </thead>\n",
       "  <tbody>\n",
       "    <tr>\n",
       "      <th>0</th>\n",
       "      <td>100</td>\n",
       "      <td>2</td>\n",
       "      <td>4</td>\n",
       "      <td>103.21</td>\n",
       "      <td>-0.015798</td>\n",
       "      <td>1</td>\n",
       "    </tr>\n",
       "    <tr>\n",
       "      <th>1</th>\n",
       "      <td>100</td>\n",
       "      <td>3</td>\n",
       "      <td>4</td>\n",
       "      <td>104.85</td>\n",
       "      <td>-0.015787</td>\n",
       "      <td>1</td>\n",
       "    </tr>\n",
       "    <tr>\n",
       "      <th>2</th>\n",
       "      <td>100</td>\n",
       "      <td>4</td>\n",
       "      <td>4</td>\n",
       "      <td>106.36</td>\n",
       "      <td>-0.015415</td>\n",
       "      <td>1</td>\n",
       "    </tr>\n",
       "    <tr>\n",
       "      <th>3</th>\n",
       "      <td>100</td>\n",
       "      <td>5</td>\n",
       "      <td>4</td>\n",
       "      <td>107.77</td>\n",
       "      <td>-0.014966</td>\n",
       "      <td>1</td>\n",
       "    </tr>\n",
       "    <tr>\n",
       "      <th>4</th>\n",
       "      <td>100</td>\n",
       "      <td>7</td>\n",
       "      <td>0</td>\n",
       "      <td>84.48</td>\n",
       "      <td>0.024094</td>\n",
       "      <td>1</td>\n",
       "    </tr>\n",
       "    <tr>\n",
       "      <th>5</th>\n",
       "      <td>100</td>\n",
       "      <td>10</td>\n",
       "      <td>0</td>\n",
       "      <td>77.72</td>\n",
       "      <td>0.025206</td>\n",
       "      <td>1</td>\n",
       "    </tr>\n",
       "  </tbody>\n",
       "</table>\n",
       "</div>"
      ],
      "text/plain": [
       "   principal  maturity  coupon   price  spot_rate  freq\n",
       "0        100         2       4  103.21  -0.015798     1\n",
       "1        100         3       4  104.85  -0.015787     1\n",
       "2        100         4       4  106.36  -0.015415     1\n",
       "3        100         5       4  107.77  -0.014966     1\n",
       "4        100         7       0   84.48   0.024094     1\n",
       "5        100        10       0   77.72   0.025206     1"
      ]
     },
     "execution_count": 14,
     "metadata": {},
     "output_type": "execute_result"
    }
   ],
   "source": [
    "data['freq'] = [1,1,1,1,1,1]\n",
    "data"
   ]
  },
  {
   "cell_type": "markdown",
   "metadata": {},
   "source": [
    "But we have to take into account coupon payments"
   ]
  },
  {
   "cell_type": "code",
   "execution_count": 15,
   "metadata": {},
   "outputs": [],
   "source": [
    "def coupon_payment(coupon, freq, periods, data):\n",
    "    coupon_amount = coupon/freq\n",
    "    coupon_pay = 0\n",
    "    \n",
    "    for i in range(1, periods):\n",
    "        period = (i/freq)\n",
    "        period_spot = data.loc[data['maturity'] == period, 'spot_rate'].values\n",
    "        discounted_value = coupon_amount / np.exp(period_spot*period)\n",
    "        try:\n",
    "            coupon_pay += discounted_value[0]\n",
    "        except:\n",
    "            coupon_pay += 0\n",
    "    \n",
    "    return coupon_pay"
   ]
  },
  {
   "cell_type": "code",
   "execution_count": 16,
   "metadata": {},
   "outputs": [],
   "source": [
    "def spot_rate(par, price, maturity, coupon, freq, data):\n",
    "    coupon_pay = 0\n",
    "    \n",
    "    if coupon != 0:\n",
    "        periods = np.int(maturity*freq)\n",
    "        coupon_pay = coupon_payment(coupon, freq, periods, data)\n",
    "    \n",
    "    final_flow = par + coupon/freq if maturity%(1/freq) == 0 else par\n",
    "    \n",
    "    final_price = price - coupon_pay\n",
    "    \n",
    "    total_interest = final_flow/final_price\n",
    "    \n",
    "    spot = ((1/maturity)*np.log(total_interest))\n",
    "    \n",
    "    total_interest = total_interest-1\n",
    "    \n",
    "    return spot, total_interest"
   ]
  },
  {
   "cell_type": "code",
   "execution_count": 17,
   "metadata": {},
   "outputs": [
    {
     "name": "stderr",
     "output_type": "stream",
     "text": [
      "/home/kense/.local/lib/python3.6/site-packages/ipykernel_launcher.py:2: FutureWarning: set_value is deprecated and will be removed in a future release. Please use .at[] or .iat[] accessors instead\n",
      "  \n"
     ]
    }
   ],
   "source": [
    "for k, v in data.iterrows():\n",
    "    data.set_value(k, 'spot_rate', spot_rate(v['principal'],v['price'],v['maturity'],v['coupon'],v['freq'], data)[0])"
   ]
  },
  {
   "cell_type": "code",
   "execution_count": 18,
   "metadata": {},
   "outputs": [
    {
     "data": {
      "text/plain": [
       "Text(0.5, 1.0, 'Zero Curve')"
      ]
     },
     "execution_count": 18,
     "metadata": {},
     "output_type": "execute_result"
    },
    {
     "data": {
      "image/png": "[encoded data removed]",
      "text/plain": [
       "<Figure size 432x288 with 1 Axes>"
      ]
     },
     "metadata": {
      "needs_background": "light"
     },
     "output_type": "display_data"
    }
   ],
   "source": [
    "plt.plot(data['maturity'],data['spot_rate'])\n",
    "plt.xlabel(\"Maturity (Years)\")\n",
    "plt.ylabel(\"Spot Rate\")\n",
    "plt.title(\"Zero Curve\")"
   ]
  },
  {
   "cell_type": "markdown",
   "metadata": {},
   "source": [
    "The graphs show the zero coupon rate of the bonds as a function of maturity (in years). As we can see, it is an increase, meaning that the bonds with higher maturity time has a higher spot rate, which as per the price and coupon payments data given, makes sense because the bonds without coupon payments' yield is based on its maturity payment. Thus We can see that the bonds with zero coupon payments tend to have a lower price, since investors would not stand to be making money from coupons holding the bonds. Thus the zero coupon interest rate acts as a sort of comparison factor so investors can determine whether or not these bonds without coupons are worth their investment at the current price compared to other bonds, or even other investments."
   ]
  }
 ],
 "metadata": {
  "kernelspec": {
   "display_name": "Python 3",
   "language": "python",
   "name": "python3"
  },
  "language_info": {
   "codemirror_mode": {
    "name": "ipython",
    "version": 3
   },
   "file_extension": ".py",
   "mimetype": "text/x-python",
   "name": "python",
   "nbconvert_exporter": "python",
   "pygments_lexer": "ipython3",
   "version": "3.6.9"
  }
 },
 "nbformat": 4,
 "nbformat_minor": 2
}
