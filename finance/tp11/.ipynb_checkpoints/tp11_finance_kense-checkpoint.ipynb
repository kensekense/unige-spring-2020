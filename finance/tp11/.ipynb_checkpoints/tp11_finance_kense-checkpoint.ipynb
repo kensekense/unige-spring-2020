{
 "cells": [
  {
   "cell_type": "markdown",
   "metadata": {},
   "source": [
    "# Computational Finance\n",
    "## Series 11\n",
    "Tientso Ning"
   ]
  },
  {
   "cell_type": "code",
   "execution_count": 1,
   "metadata": {},
   "outputs": [],
   "source": [
    "import numpy as np\n",
    "import pandas as pd\n",
    "import matplotlib.pyplot as plt"
   ]
  },
  {
   "cell_type": "code",
   "execution_count": 2,
   "metadata": {},
   "outputs": [],
   "source": [
    "#define the bond properties\n"
   ]
  },
  {
   "cell_type": "code",
   "execution_count": 3,
   "metadata": {},
   "outputs": [],
   "source": [
    "#Interest Curve\n",
    "principal1 = [100,100,100,100,100]\n",
    "principal2 = [100,100,100,100,100,100]\n",
    "maturity1 = [1,2,3,6,12]\n",
    "maturity2 = [2,3,4,5,7,10]\n",
    "coupon1 = [0,0,0,3,4]\n",
    "coupon2 = [4,4,4,4,0,0]\n",
    "price1 = [99.80,99.60,99.40,100.27,101.57]\n",
    "price2 = [103.21,104.85,106.36,107.77,84.48,77.72]\n",
    "curve1 = pd.DataFrame(data={\"principal\":principal1, \"maturity\":maturity1,\"coupon\":coupon1, \"price\":price1})\n",
    "curve2 = pd.DataFrame(data={\"principal\":principal2, \"maturity\":maturity2,\"coupon\":coupon2, \"price\":price2})\n",
    "curve1['coupon'] = curve1['coupon']*2\n",
    "curve1['maturity'] = curve1['maturity']/12\n",
    "curve1['zero.rate'] = curve1['coupon']"
   ]
  },
  {
   "cell_type": "code",
   "execution_count": 4,
   "metadata": {},
   "outputs": [
    {
     "name": "stdout",
     "output_type": "stream",
     "text": [
      "   principal  maturity  coupon   price\n",
      "0        100  0.083333       0   99.80\n",
      "1        100  0.166667       0   99.60\n",
      "2        100  0.250000       0   99.40\n",
      "3        100  0.500000       6  100.27\n",
      "4        100  1.000000       8  101.57\n",
      "   principal  maturity  coupon   price\n",
      "0        100         2       4  103.21\n",
      "1        100         3       4  104.85\n",
      "2        100         4       4  106.36\n",
      "3        100         5       4  107.77\n",
      "4        100         7       0   84.48\n",
      "5        100        10       0   77.72\n"
     ]
    }
   ],
   "source": [
    "print(curve1)\n",
    "print(curve2)"
   ]
  },
  {
   "cell_type": "code",
   "execution_count": 17,
   "metadata": {},
   "outputs": [
    {
     "data": {
      "text/plain": [
       "0.10748155953635405"
      ]
     },
     "execution_count": 17,
     "metadata": {},
     "output_type": "execute_result"
    }
   ],
   "source": [
    "2*5.1/94.9"
   ]
  },
  {
   "cell_type": "code",
   "execution_count": 21,
   "metadata": {},
   "outputs": [
    {
     "data": {
      "image/png": "[encoded data removed]",
      "text/plain": [
       "<Figure size 432x288 with 1 Axes>"
      ]
     },
     "metadata": {
      "needs_background": "light"
     },
     "output_type": "display_data"
    }
   ],
   "source": [
    "\"\"\" Bootstrapping the yield curve \"\"\"\n",
    "import math\n",
    "    \n",
    "class BootstrapYieldCurve(object):\n",
    "    \n",
    "    def __init__(self):\n",
    "        self.zero_rates = dict()  # Map each T to a zero rate\n",
    "        self.instruments = dict()  # Map each T to an instrument\n",
    "        \n",
    "    def add_instrument(self, par, T, coup, price,\n",
    "                       compounding_freq=2):\n",
    "        \"\"\"  Save instrument info by maturity \"\"\"\n",
    "        self.instruments[T] = (par, coup, price, compounding_freq)\n",
    "    \n",
    "    def get_zero_rates(self):\n",
    "        \"\"\"  Calculate a list of available zero rates \"\"\"\n",
    "        self.__bootstrap_zero_coupons__()\n",
    "        self.__get_bond_spot_rates__()\n",
    "        return [self.zero_rates[T] for T in self.get_maturities()]\n",
    "        \n",
    "    def get_maturities(self):\n",
    "        \"\"\" Return sorted maturities from added instruments. \"\"\"\n",
    "        return sorted(self.instruments.keys())\n",
    "        \n",
    "    def __bootstrap_zero_coupons__(self):\n",
    "        \"\"\" Get zero rates from zero coupon bonds \"\"\"\n",
    "        for T in self.instruments.keys():\n",
    "            (par, coup, price, freq) = self.instruments[T]\n",
    "            if coup == 0:\n",
    "                self.zero_rates[T] = \\\n",
    "                    self.zero_coupon_spot_rate(par, price, T)\n",
    "                    \n",
    "    def __get_bond_spot_rates__(self):\n",
    "        \"\"\" Get spot rates for every marurity available \"\"\"\n",
    "        for T in self.get_maturities():\n",
    "            instrument = self.instruments[T]\n",
    "            (par, coup, price, freq) = instrument\n",
    "\n",
    "            if coup != 0:\n",
    "                self.zero_rates[T] = \\\n",
    "                    self.__calculate_bond_spot_rate__(\n",
    "                        T, instrument)\n",
    "                \n",
    "    def __calculate_bond_spot_rate__(self, T, instrument):\n",
    "        \"\"\" Get spot rate of a bond by bootstrapping \"\"\"\n",
    "        try:\n",
    "            (par, coup, price, freq) = instrument\n",
    "            periods = T * freq  # Number of coupon payments\n",
    "            value = price\n",
    "            per_coupon = coup / freq  # Coupon per period\n",
    "\n",
    "            for i in range(int(periods)-1):\n",
    "                t = (i+1)/float(freq)\n",
    "                spot_rate = self.zero_rates[t]\n",
    "                discounted_coupon = per_coupon * \\\n",
    "                                    math.exp(-spot_rate*t)\n",
    "                value -= discounted_coupon\n",
    "\n",
    "            # Derive spot rate for a particular maturity\n",
    "            last_period = int(periods)/float(freq)        \n",
    "            spot_rate = -math.log(value /\n",
    "                                  (par+per_coupon))/last_period\n",
    "            return spot_rate\n",
    "\n",
    "        except:\n",
    "            print(\"Error: spot rate not found for T=%s\" % t)\n",
    "            \n",
    "    def zero_coupon_spot_rate(self, par, price, T):\n",
    "        \"\"\" Get zero rate of a zero coupon bond \"\"\"\n",
    "        spot_rate = math.log(par/price)/T\n",
    "        return spot_rate\n",
    "\n",
    "\n",
    "if __name__ == \"__main__\":\n",
    "    yield_curve = BootstrapYieldCurve()\n",
    "    yield_curve.add_instrument(100, 1/12, 0., 99.80)\n",
    "    yield_curve.add_instrument(100, 2/12, 0., 99.60)\n",
    "    yield_curve.add_instrument(100, 3/12, 0., 99.4)\n",
    "    yield_curve.add_instrument(100, 6/12, 6, 100.27)\n",
    "    yield_curve.add_instrument(100, 12/12, 8, 101.57)\n",
    "    y = yield_curve.get_zero_rates()\n",
    "    x = yield_curve.get_maturities()\n",
    "\n",
    "    import matplotlib.pyplot as plt\n",
    "    plt.plot(x, y)\n",
    "    plt.title(\"Zero Curve\")\n",
    "    plt.ylabel(\"Zero Rate (%)\")\n",
    "    plt.xlabel(\"Maturity in Years\")\n",
    "    plt.show()"
   ]
  },
  {
   "cell_type": "code",
   "execution_count": null,
   "metadata": {},
   "outputs": [],
   "source": []
  }
 ],
 "metadata": {
  "kernelspec": {
   "display_name": "Python 3",
   "language": "python",
   "name": "python3"
  },
  "language_info": {
   "codemirror_mode": {
    "name": "ipython",
    "version": 3
   },
   "file_extension": ".py",
   "mimetype": "text/x-python",
   "name": "python",
   "nbconvert_exporter": "python",
   "pygments_lexer": "ipython3",
   "version": "3.6.7"
  }
 },
 "nbformat": 4,
 "nbformat_minor": 2
}
