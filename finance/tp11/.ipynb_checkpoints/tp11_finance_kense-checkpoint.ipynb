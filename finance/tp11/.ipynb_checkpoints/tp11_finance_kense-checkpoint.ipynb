{
 "cells": [
  {
   "cell_type": "markdown",
   "metadata": {},
   "source": [
    "# Computational Finance\n",
    "## Series 11\n",
    "Tientso Ning"
   ]
  },
  {
   "cell_type": "code",
   "execution_count": 99,
   "metadata": {},
   "outputs": [],
   "source": [
    "import numpy as np\n",
    "import pandas as pd\n",
    "import scipy.optimize as optimize\n",
    "import matplotlib.pyplot as plt"
   ]
  },
  {
   "cell_type": "code",
   "execution_count": 30,
   "metadata": {},
   "outputs": [
    {
     "data": {
      "text/plain": [
       "9.999999999999737"
      ]
     },
     "execution_count": 30,
     "metadata": {},
     "output_type": "execute_result"
    }
   ],
   "source": [
    "#bond with 3 years maturity, face value of 100$, and coupon of 0.10 paid semi-annually\n",
    "\n",
    "def YTM(price, par, T, coup, freq, step):\n",
    "    periods = T*freq\n",
    "    coupon = coup/100.*par/freq\n",
    "    dt = [(i+1)/freq for i in range(int(periods))]\n",
    "    ytm_ = lambda y: sum([coupon/(1+y/freq)**(freq*t) for t in dt]) + par/(1+y/freq)**(freq*T) - price\n",
    "    \n",
    "    return optimize.newton(ytm_, step)\n",
    "\n",
    "YTM(100, 100, 3, 10, 2, 0.05)*100"
   ]
  },
  {
   "cell_type": "code",
   "execution_count": 75,
   "metadata": {},
   "outputs": [],
   "source": [
    "#define bond behavior\n",
    "\n",
    "class YieldCurve(object):\n",
    "\n",
    "    def __init__(self):\n",
    "        self.zero_rates = {}\n",
    "        self.entries = {}\n",
    "\n",
    "    def add_entry(self, par, T, coup, price, freq):\n",
    "        self.entries[T] = (par, coup, price, freq)\n",
    "\n",
    "    def get_zero_rates(self):\n",
    "        self.__zero_coupons__()\n",
    "        self.__get_bond_spot_rates__()\n",
    "        return [self.zero_rates[T] for T in self.get_maturities()]\n",
    "\n",
    "    def get_maturities(self):\n",
    "        return sorted(self.entries.keys())\n",
    "\n",
    "    def __zero_coupons__(self):\n",
    "        for T in self.entries.keys():\n",
    "            (par, coup, price, freq) = self.entries[T]\n",
    "            if coup == 0:\n",
    "                self.zero_rates[T] = self.zero_coupon_spot_rate(par, price, T)\n",
    "\n",
    "    def __get_bond_spot_rates__(self):\n",
    "        for T in self.get_maturities():\n",
    "            entry = self.entries[T]\n",
    "            (par, coup, price, freq) = entry\n",
    "\n",
    "            if coup != 0:\n",
    "                self.zero_rates[T] = self.__calculate_bond_spot_rate__(T, entry)\n",
    "\n",
    "    def __calculate_bond_spot_rate__(self, T, entry):\n",
    "        try:\n",
    "            (par, coup, price, freq) = entry\n",
    "            periods = T * freq\n",
    "            value = price\n",
    "            per_coupon = coup / freq\n",
    "\n",
    "            for i in range(int(periods)-1):\n",
    "                t = (i+1)/float(freq)\n",
    "                spot_rate = self.zero_rates[t]\n",
    "                discounted_coupon = per_coupon * np.exp(-spot_rate*t)\n",
    "                value -= discounted_coupon\n",
    "\n",
    "            last_period = int(periods)/float(freq)\n",
    "            spot_rate = -np.log(value/(par+per_coupon))/last_period\n",
    "\n",
    "            return spot_rate\n",
    "        except:\n",
    "            print(\"error\")\n",
    "\n",
    "    def zero_coupon_spot_rate(self, par, price, T):\n",
    "        spot_rate = np.log(par/price)/T\n",
    "        return spot_rate"
   ]
  },
  {
   "cell_type": "code",
   "execution_count": 95,
   "metadata": {},
   "outputs": [
    {
     "data": {
      "image/png": "[encoded data removed]",
      "text/plain": [
       "<Figure size 432x288 with 1 Axes>"
      ]
     },
     "metadata": {
      "needs_background": "light"
     },
     "output_type": "display_data"
    }
   ],
   "source": [
    "#plot\n",
    "\n",
    "bond_plot = YieldCurve()\n",
    "bond_plot.add_entry(100, 1/12, 0., 99.80, 2)\n",
    "bond_plot.add_entry(100, 2/12, 0., 99.60, 2)\n",
    "bond_plot.add_entry(100, 3/12, 0., 99.4, 2)\n",
    "bond_plot.add_entry(100, 6/12, 6, 100.27, 2)\n",
    "bond_plot.add_entry(100, 12/12, 8, 101.57, 2)\n",
    "\n",
    "y = bond_plot.get_zero_rates()\n",
    "x = bond_plot.get_maturities()\n",
    "\n",
    "plt.plot(x, y)\n",
    "plt.title(\"Zero Curve\")\n",
    "plt.ylabel(\"Zero Rate\")\n",
    "plt.xlabel(\"Maturity in Years\")\n",
    "plt.show()"
   ]
  },
  {
   "cell_type": "code",
   "execution_count": 107,
   "metadata": {},
   "outputs": [
    {
     "data": {
      "text/html": [
       "<div>\n",
       "<style scoped>\n",
       "    .dataframe tbody tr th:only-of-type {\n",
       "        vertical-align: middle;\n",
       "    }\n",
       "\n",
       "    .dataframe tbody tr th {\n",
       "        vertical-align: top;\n",
       "    }\n",
       "\n",
       "    .dataframe thead th {\n",
       "        text-align: right;\n",
       "    }\n",
       "</style>\n",
       "<table border=\"1\" class=\"dataframe\">\n",
       "  <thead>\n",
       "    <tr style=\"text-align: right;\">\n",
       "      <th></th>\n",
       "      <th>principal</th>\n",
       "      <th>maturity</th>\n",
       "      <th>coupon</th>\n",
       "      <th>price</th>\n",
       "    </tr>\n",
       "  </thead>\n",
       "  <tbody>\n",
       "    <tr>\n",
       "      <th>0</th>\n",
       "      <td>100</td>\n",
       "      <td>2</td>\n",
       "      <td>4</td>\n",
       "      <td>103.21</td>\n",
       "    </tr>\n",
       "    <tr>\n",
       "      <th>1</th>\n",
       "      <td>100</td>\n",
       "      <td>3</td>\n",
       "      <td>4</td>\n",
       "      <td>104.85</td>\n",
       "    </tr>\n",
       "    <tr>\n",
       "      <th>2</th>\n",
       "      <td>100</td>\n",
       "      <td>4</td>\n",
       "      <td>4</td>\n",
       "      <td>106.36</td>\n",
       "    </tr>\n",
       "    <tr>\n",
       "      <th>3</th>\n",
       "      <td>100</td>\n",
       "      <td>5</td>\n",
       "      <td>4</td>\n",
       "      <td>107.77</td>\n",
       "    </tr>\n",
       "    <tr>\n",
       "      <th>4</th>\n",
       "      <td>100</td>\n",
       "      <td>7</td>\n",
       "      <td>0</td>\n",
       "      <td>84.48</td>\n",
       "    </tr>\n",
       "    <tr>\n",
       "      <th>5</th>\n",
       "      <td>100</td>\n",
       "      <td>10</td>\n",
       "      <td>0</td>\n",
       "      <td>77.72</td>\n",
       "    </tr>\n",
       "  </tbody>\n",
       "</table>\n",
       "</div>"
      ],
      "text/plain": [
       "   principal  maturity  coupon   price\n",
       "0        100         2       4  103.21\n",
       "1        100         3       4  104.85\n",
       "2        100         4       4  106.36\n",
       "3        100         5       4  107.77\n",
       "4        100         7       0   84.48\n",
       "5        100        10       0   77.72"
      ]
     },
     "execution_count": 107,
     "metadata": {},
     "output_type": "execute_result"
    }
   ],
   "source": [
    "principal = [100,100,100,100,100,100]\n",
    "maturity = [2,3,4,5,7,10]\n",
    "coupon = [4,4,4,4,0,0]\n",
    "price = [103.21,104.85,106.36,107.77,84.48,77.72]\n",
    "\n",
    "data = pd.DataFrame({\"principal\":principal, \"maturity\":maturity, \"coupon\":coupon, \"price\":price})\n",
    "data"
   ]
  },
  {
   "cell_type": "code",
   "execution_count": 108,
   "metadata": {},
   "outputs": [
    {
     "name": "stdout",
     "output_type": "stream",
     "text": [
      "0.9688983625617673\n",
      "-0.7582934781540125\n"
     ]
    }
   ],
   "source": [
    "_3m_zcb_interest = data.iloc[0]['principal']/data.iloc[0]['price']\n",
    "_3m_spot_rate = 24*np.log(_3m_zcb_interest)\n",
    "print(_3m_zcb_interest)\n",
    "print(_3m_spot_rate)"
   ]
  },
  {
   "cell_type": "code",
   "execution_count": 109,
   "metadata": {},
   "outputs": [
    {
     "name": "stdout",
     "output_type": "stream",
     "text": [
      "0.9537434430138293\n",
      "-1.7049805689541526\n"
     ]
    }
   ],
   "source": [
    "_6m_zcb_interest = data.iloc[1]['principal']/data.iloc[1]['price']\n",
    "_6m_spot_rate = 36*np.log(_6m_zcb_interest)\n",
    "print(_6m_zcb_interest)\n",
    "print(_6m_spot_rate)"
   ]
  },
  {
   "cell_type": "code",
   "execution_count": null,
   "metadata": {},
   "outputs": [],
   "source": []
  },
  {
   "cell_type": "markdown",
   "metadata": {},
   "source": [
    "## TODO: Comment your graph"
   ]
  }
 ],
 "metadata": {
  "kernelspec": {
   "display_name": "Python 3",
   "language": "python",
   "name": "python3"
  },
  "language_info": {
   "codemirror_mode": {
    "name": "ipython",
    "version": 3
   },
   "file_extension": ".py",
   "mimetype": "text/x-python",
   "name": "python",
   "nbconvert_exporter": "python",
   "pygments_lexer": "ipython3",
   "version": "3.6.9"
  }
 },
 "nbformat": 4,
 "nbformat_minor": 2
}
