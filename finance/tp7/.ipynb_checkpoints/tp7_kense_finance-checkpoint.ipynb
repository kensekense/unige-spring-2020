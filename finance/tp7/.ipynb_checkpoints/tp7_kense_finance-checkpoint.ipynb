{
 "cells": [
  {
   "cell_type": "markdown",
   "metadata": {},
   "source": [
    "# Computational Finance\n",
    "## Series 7\n",
    "Tientso Ning"
   ]
  },
  {
   "cell_type": "code",
   "execution_count": 1,
   "metadata": {},
   "outputs": [],
   "source": [
    "import numpy as np\n",
    "import pandas as pd\n",
    "import matplotlib.pyplot as plt\n",
    "%matplotlib inline"
   ]
  },
  {
   "cell_type": "code",
   "execution_count": 2,
   "metadata": {},
   "outputs": [],
   "source": [
    "#read the data from closes.dat\n",
    "data = pd.read_csv(\"./closes.dat\", sep=\"\\t\", names=[\"McDonalds\",\"Bank.of.America\", \"IBM\", \"Chevron\", \"Coca.Cola\", \"Novartis\", \"AT&T\"])"
   ]
  },
  {
   "cell_type": "code",
   "execution_count": 3,
   "metadata": {},
   "outputs": [
    {
     "data": {
      "text/html": [
       "<div>\n",
       "<style scoped>\n",
       "    .dataframe tbody tr th:only-of-type {\n",
       "        vertical-align: middle;\n",
       "    }\n",
       "\n",
       "    .dataframe tbody tr th {\n",
       "        vertical-align: top;\n",
       "    }\n",
       "\n",
       "    .dataframe thead th {\n",
       "        text-align: right;\n",
       "    }\n",
       "</style>\n",
       "<table border=\"1\" class=\"dataframe\">\n",
       "  <thead>\n",
       "    <tr style=\"text-align: right;\">\n",
       "      <th></th>\n",
       "      <th>McDonalds</th>\n",
       "      <th>Bank.of.America</th>\n",
       "      <th>IBM</th>\n",
       "      <th>Chevron</th>\n",
       "      <th>Coca.Cola</th>\n",
       "      <th>Novartis</th>\n",
       "      <th>AT&amp;T</th>\n",
       "    </tr>\n",
       "  </thead>\n",
       "  <tbody>\n",
       "    <tr>\n",
       "      <th>0</th>\n",
       "      <td>100.96</td>\n",
       "      <td>15.09</td>\n",
       "      <td>193.53</td>\n",
       "      <td>124.94</td>\n",
       "      <td>40.78</td>\n",
       "      <td>87.00</td>\n",
       "      <td>35.58</td>\n",
       "    </tr>\n",
       "    <tr>\n",
       "      <th>1</th>\n",
       "      <td>101.38</td>\n",
       "      <td>15.14</td>\n",
       "      <td>196.47</td>\n",
       "      <td>125.52</td>\n",
       "      <td>40.79</td>\n",
       "      <td>86.94</td>\n",
       "      <td>35.70</td>\n",
       "    </tr>\n",
       "    <tr>\n",
       "      <th>2</th>\n",
       "      <td>101.50</td>\n",
       "      <td>15.24</td>\n",
       "      <td>195.11</td>\n",
       "      <td>125.97</td>\n",
       "      <td>40.57</td>\n",
       "      <td>86.45</td>\n",
       "      <td>35.42</td>\n",
       "    </tr>\n",
       "    <tr>\n",
       "      <th>3</th>\n",
       "      <td>100.31</td>\n",
       "      <td>14.95</td>\n",
       "      <td>193.14</td>\n",
       "      <td>125.73</td>\n",
       "      <td>41.03</td>\n",
       "      <td>85.36</td>\n",
       "      <td>35.08</td>\n",
       "    </tr>\n",
       "    <tr>\n",
       "      <th>4</th>\n",
       "      <td>100.73</td>\n",
       "      <td>15.95</td>\n",
       "      <td>189.63</td>\n",
       "      <td>123.99</td>\n",
       "      <td>41.01</td>\n",
       "      <td>84.47</td>\n",
       "      <td>34.49</td>\n",
       "    </tr>\n",
       "  </tbody>\n",
       "</table>\n",
       "</div>"
      ],
      "text/plain": [
       "   McDonalds  Bank.of.America     IBM  Chevron  Coca.Cola  Novartis   AT&T\n",
       "0     100.96            15.09  193.53   124.94      40.78     87.00  35.58\n",
       "1     101.38            15.14  196.47   125.52      40.79     86.94  35.70\n",
       "2     101.50            15.24  195.11   125.97      40.57     86.45  35.42\n",
       "3     100.31            14.95  193.14   125.73      41.03     85.36  35.08\n",
       "4     100.73            15.95  189.63   123.99      41.01     84.47  34.49"
      ]
     },
     "execution_count": 3,
     "metadata": {},
     "output_type": "execute_result"
    }
   ],
   "source": [
    "#peep the data\n",
    "data.head()"
   ]
  },
  {
   "cell_type": "code",
   "execution_count": 4,
   "metadata": {},
   "outputs": [],
   "source": [
    "#determine some attributes\n",
    "daily_ret = data.pct_change()\n",
    "annual_ret = daily_ret.mean()*len(data)\n",
    "daily_cov = daily_ret.cov()\n",
    "annual_cov = daily_cov*len(data)"
   ]
  },
  {
   "cell_type": "code",
   "execution_count": 65,
   "metadata": {},
   "outputs": [
    {
     "data": {
      "text/plain": [
       "Text(0, 0.5, 'Expected Return of Portfolio')"
      ]
     },
     "execution_count": 65,
     "metadata": {},
     "output_type": "execute_result"
    },
    {
     "data": {
      "image/png": "[encoded data removed]",
      "text/plain": [
       "<Figure size 432x288 with 1 Axes>"
      ]
     },
     "metadata": {
      "needs_background": "light"
     },
     "output_type": "display_data"
    }
   ],
   "source": [
    "#analytical approach, we choose 2 assets and divide weight 0.5\n",
    "E_R1 = data['IBM'].pct_change().mean()*len(data['IBM'])\n",
    "E_R2 = data['Coca.Cola'].pct_change().mean()*len(data['Coca.Cola'])\n",
    "delta1 = data['IBM'].pct_change().var() #variance of return\n",
    "delta2 = data['Coca.Cola'].pct_change().var()\n",
    "\n",
    "#Expected Returns and WA and weight\n",
    "weight = 0.5\n",
    "E_Ri = []\n",
    "D_Ri = []\n",
    "WA = []\n",
    "E_p = []\n",
    "\n",
    "for asset in data:\n",
    "    E_Ri.append(data[asset].pct_change().mean()*len(data[asset]))\n",
    "    D_Ri.append(data[asset].pct_change().var()*len(data[asset]))\n",
    "\n",
    "#calculate the weighted averages and the Expected Return of the Portfolio\n",
    "for i in range(len(D_Ri)):\n",
    "    for j in range(i+1,len(D_Ri)):\n",
    "        WA.append(weight*D_Ri[i]+weight*D_Ri[j])\n",
    "        E_p.append(weight*E_Ri[i]+weight*E_Ri[j])\n",
    "\n",
    "plt.scatter(E_p, WA)\n",
    "plt.title(\"Analytical Efficient Frontier\")\n",
    "plt.xlabel(\"Weighted Average\")\n",
    "plt.ylabel(\"Expected Return of Portfolio\")\n"
   ]
  },
  {
   "cell_type": "code",
   "execution_count": 5,
   "metadata": {},
   "outputs": [],
   "source": [
    "#first thing to do is to get combinations of portfolios\n",
    "np.random.seed(1)\n",
    "\n",
    "#returns, volatility, and weights of portfolios\n",
    "portfolio_ret = []\n",
    "portfolio_vola = []\n",
    "weights = []\n",
    "\n",
    "#number of portfolios to consider\n",
    "num_assets = len(data.columns.values) #the number of assets we consider\n",
    "num_portfolios = 50000 #we can set this value\n",
    "\n",
    "#populate the portfolios, randomly (monte carlo)\n",
    "for portfolio in range(num_portfolios):\n",
    "    weight = np.random.random(num_assets)\n",
    "    weight /= np.sum(weight)\n",
    "    returns = np.dot(weight, annual_ret)\n",
    "    volatility = np.sqrt(np.dot(weight.T, np.dot(annual_cov, weight)))\n",
    "    portfolio_ret.append(returns)\n",
    "    portfolio_vola.append(volatility)\n",
    "    weights.append(weight)\n",
    "\n",
    "#portfolio in searchable format\n",
    "portfolio_ = {\"Returns\": portfolio_ret, \"Volatility\": portfolio_vola}\n",
    "\n",
    "#create dataframe\n",
    "data_EF = pd.DataFrame(portfolio_)   "
   ]
  },
  {
   "cell_type": "code",
   "execution_count": 66,
   "metadata": {},
   "outputs": [
    {
     "data": {
      "image/png": "[encoded data removed]",
      "text/plain": [
       "<Figure size 432x288 with 1 Axes>"
      ]
     },
     "metadata": {
      "needs_background": "light"
     },
     "output_type": "display_data"
    }
   ],
   "source": [
    "#visualizet\n",
    "plt.scatter(data=data_EF, x=\"Volatility\", y=\"Returns\", label=\"Random Portfolios\")\n",
    "plt.xlabel(\"Volatility (Std)\")\n",
    "plt.ylabel(\"Returns\")\n",
    "plt.title(\"Monte Carlo Efficient Frontier\")\n",
    "plt.legend()\n",
    "plt.show()"
   ]
  },
  {
   "cell_type": "code",
   "execution_count": 7,
   "metadata": {},
   "outputs": [
    {
     "name": "stdout",
     "output_type": "stream",
     "text": [
      "Minimum Volatility Portfolio Weights: [0.30714002 0.03302884 0.09401267 0.19675696 0.09482896 0.15790135\n",
      " 0.11633121]\n",
      "Minimum Volatility Portfolio Returns: -0.011143252331514437\n",
      "[-0.02572767764608835, -0.02502121474405879, -0.021337815266144193, -0.0504295352684485, -0.030194934120733433, -0.008248741983543351, -0.03368424429699571, 0.006896292452796852, 0.001655341621279045, -0.034686791004444065, -0.011143252331514437, 0.0002975418775109061, -0.00404576143466346, -0.011252269428614164, -0.03276728120196155, -0.037247725134030525, -0.059881909939698275, -0.04861705516171918, -0.024937919174498904, -0.033833277153448076]\n"
     ]
    }
   ],
   "source": [
    "#find the weights of the portfolio with the minimum volatility\n",
    "i = data_EF['Volatility'].idxmin()\n",
    "print(\"Minimum Volatility Portfolio Weights:\", weights[i])\n",
    "\n",
    "#show the return of this portfolio\n",
    "print(\"Minimum Volatility Portfolio Returns:\", portfolio_ret[i])\n",
    "\n",
    "#compare it to some values around it\n",
    "print(portfolio_ret[i-10:i+10])"
   ]
  },
  {
   "cell_type": "markdown",
   "metadata": {},
   "source": [
    "We can see that this portfolio's returns are better than most of the other values around it, but it is not the best value for the return (there are some other values better than it). This tells us that there is more at play than just finding the best return at any given time. We can see that less volatility usually has a higher return, up until a certain point, where we have to take some more risk in order to achieve better returns. We can see the curve that defines the \"Efficient Frontier\""
   ]
  }
 ],
 "metadata": {
  "kernelspec": {
   "display_name": "Python 3",
   "language": "python",
   "name": "python3"
  },
  "language_info": {
   "codemirror_mode": {
    "name": "ipython",
    "version": 3
   },
   "file_extension": ".py",
   "mimetype": "text/x-python",
   "name": "python",
   "nbconvert_exporter": "python",
   "pygments_lexer": "ipython3",
   "version": "3.6.8"
  }
 },
 "nbformat": 4,
 "nbformat_minor": 2
}
