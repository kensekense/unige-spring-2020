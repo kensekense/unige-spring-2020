{
 "cells": [
  {
   "cell_type": "markdown",
   "metadata": {},
   "source": [
    "# Computational Finance\n",
    "## Series 9\n",
    "Tientso Ning"
   ]
  },
  {
   "cell_type": "code",
   "execution_count": 2,
   "metadata": {},
   "outputs": [],
   "source": [
    "import numpy as np\n",
    "import pandas as pd\n",
    "from scipy.stats import norm\n",
    "import matplotlib.pyplot as plt"
   ]
  },
  {
   "cell_type": "code",
   "execution_count": 70,
   "metadata": {},
   "outputs": [],
   "source": [
    "#Black Scholes Model\n",
    "def black_scholes (S, K, r, t):\n",
    "    '''\n",
    "    Where S is the current stock price\n",
    "    K is the strike prices\n",
    "    r is the risk-free interest rate\n",
    "    t is the time to maturity\n",
    "    under a Normal distribution\n",
    "    '''\n",
    "    \n",
    "    v = 0.2 #set volatility at 20% for our problem\n",
    "    \n",
    "    d1 = (np.log(S/K)+((r+(v**2)/2)*t)/(v*np.sqrt(t)))\n",
    "    d2 = d1-(v*np.sqrt(t))\n",
    "    return S*norm.cdf(d1)-K*np.exp(-1*r*t)*norm.cdf(d2)"
   ]
  },
  {
   "cell_type": "code",
   "execution_count": 72,
   "metadata": {},
   "outputs": [
    {
     "name": "stdout",
     "output_type": "stream",
     "text": [
      "The value of this call at t=0 is:  1.056033486694922\n"
     ]
    }
   ],
   "source": [
    "#set up the problem, asset S\n",
    "C = black_scholes(100, 120, 0.05,1)\n",
    "print(\"The value of this call at t=0 is: \", C)"
   ]
  },
  {
   "cell_type": "code",
   "execution_count": 75,
   "metadata": {},
   "outputs": [],
   "source": [
    "#Binomial Pricing Model\n",
    "def binomial_pricing (S, K, r, T, M):\n",
    "    '''\n",
    "    Where S is the current stock price\n",
    "    K is the strike prices\n",
    "    r is the risk-free interest rate\n",
    "    t is the time to maturity\n",
    "    M is the depth of the tree\n",
    "    '''\n",
    "    \n",
    "    v = 0.2 #set volatility at 20% for our problem\n",
    "    \n",
    "    dt = T/M\n",
    "    u = np.exp(v*np.sqrt(dt))\n",
    "    d = 1/u\n",
    "    p = (np.exp(r*dt)-d)/(u-d)\n",
    "    C = {}\n",
    "    for i in range(0, M+1):\n",
    "        C[(M,i)] = max(S*(u**(2*i-M))-K,0)\n",
    "    for j in range(M-1,-1,-1):\n",
    "        for i in range(0, j+1):\n",
    "            C[(j,i)] = np.exp(-r*dt)*(p*C[(j+1, i+1)]+(1-p)*C[(j+1,i)])\n",
    "    return C[(0,0)]\n",
    "    "
   ]
  },
  {
   "cell_type": "code",
   "execution_count": 86,
   "metadata": {},
   "outputs": [
    {
     "data": {
      "text/plain": [
       "[3.4397789010643804,\n",
       " 3.327360766722486,\n",
       " 3.246076237673185,\n",
       " 3.142025304768589,\n",
       " 3.2440089016040448,\n",
       " 3.2765218213062623,\n",
       " 3.233420280957389,\n",
       " 3.220780046152497,\n",
       " 3.2663380519483765,\n",
       " 3.2421622728423847,\n",
       " 3.2283708933600668,\n",
       " 3.2619087425130218,\n",
       " 3.2374498835420313,\n",
       " 3.2415877173601975,\n",
       " 3.258274618592409,\n",
       " 3.227173662360304,\n",
       " 3.2517103268321685,\n",
       " 3.2518432788989786,\n",
       " 3.2286960447089643]"
      ]
     },
     "execution_count": 86,
     "metadata": {},
     "output_type": "execute_result"
    }
   ],
   "source": [
    "prices = []\n",
    "x = []\n",
    "for d in range(0,100,5):\n",
    "    \n",
    "    if d == 0: #fix\n",
    "        continue\n",
    "    \n",
    "    prices.append(binomial_pricing(100,120, 0.05, 1, d))\n",
    "    x.append(d)\n",
    "    \n",
    "prices"
   ]
  },
  {
   "cell_type": "code",
   "execution_count": 88,
   "metadata": {},
   "outputs": [
    {
     "data": {
      "image/png": "[encoded data removed]",
      "text/plain": [
       "<Figure size 576x576 with 1 Axes>"
      ]
     },
     "metadata": {
      "needs_background": "light"
     },
     "output_type": "display_data"
    }
   ],
   "source": [
    "plt.figure(figsize=(8,8))\n",
    "plt.plot(x,prices)\n",
    "plt.xlabel(\"Depth of Tree\")\n",
    "plt.ylabel(\"Prices\")\n",
    "plt.title(\"Binomial Tree Options Pricing\")\n",
    "plt.show()"
   ]
  },
  {
   "cell_type": "markdown",
   "metadata": {},
   "source": [
    "We can see that the prices start oscillating at around depth 25 onwards, meaning that for our case of obtaining a reasonable approximation, we would want a depth of around 30 or more (to start to see the value that it oscillates around)."
   ]
  }
 ],
 "metadata": {
  "kernelspec": {
   "display_name": "Python 3",
   "language": "python",
   "name": "python3"
  },
  "language_info": {
   "codemirror_mode": {
    "name": "ipython",
    "version": 3
   },
   "file_extension": ".py",
   "mimetype": "text/x-python",
   "name": "python",
   "nbconvert_exporter": "python",
   "pygments_lexer": "ipython3",
   "version": "3.6.9"
  }
 },
 "nbformat": 4,
 "nbformat_minor": 2
}
