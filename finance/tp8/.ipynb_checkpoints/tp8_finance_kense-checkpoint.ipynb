{
 "cells": [
  {
   "cell_type": "markdown",
   "metadata": {},
   "source": [
    "# Computational Finance\n",
    "## Series 8\n",
    "Tientso Ning"
   ]
  },
  {
   "cell_type": "code",
   "execution_count": 71,
   "metadata": {},
   "outputs": [],
   "source": [
    "import numpy as np\n",
    "import random\n",
    "import matplotlib.pyplot as plt"
   ]
  },
  {
   "cell_type": "code",
   "execution_count": 72,
   "metadata": {},
   "outputs": [
    {
     "data": {
      "text/plain": [
       "array([1, 1, 1, 0, 1])"
      ]
     },
     "execution_count": 72,
     "metadata": {},
     "output_type": "execute_result"
    }
   ],
   "source": [
    "#define sample minority game\n",
    "\n",
    "#define N, M, S, and theta\n",
    "N = 15\n",
    "M = 5\n",
    "S = 2\n",
    "theta = 2\n",
    "T = 100\n",
    "\n",
    "#choose a random mu\n",
    "mu = np.random.randint(0,2,M)\n",
    "\n",
    "#define N agents and assign them a strategy\n",
    "agents = []\n",
    "for i in range(N):\n",
    "    agents.append(np.random.randint(0,2,M))\n",
    "    \n",
    "#utility function U\n",
    "U = np.zeros((M,))\n",
    "    \n",
    "#iterate T times\n",
    "for i in range(T):\n",
    "    \n",
    "    #compute A = sum(a)\n",
    "    a = []\n",
    "    for i in range(len(agents)):\n",
    "        if agents[i] == mu:\n",
    "            a.append(1)\n",
    "        else:\n",
    "            a.append(-1)\n",
    "    A = np.sum(a)\n",
    "    \n",
    "    #update strategies\n",
    "    \n",
    "    \n",
    "    #update agents with selected strategies\n",
    "    \n",
    "    #add new bit to mu and erase oldest\n",
    "    mu = np.append(mu,np.around(np.random.random()))\n",
    "    mu = mu[1:]\n",
    "    \n",
    "    #update prices?"
   ]
  }
 ],
 "metadata": {
  "kernelspec": {
   "display_name": "Python 3",
   "language": "python",
   "name": "python3"
  },
  "language_info": {
   "codemirror_mode": {
    "name": "ipython",
    "version": 3
   },
   "file_extension": ".py",
   "mimetype": "text/x-python",
   "name": "python",
   "nbconvert_exporter": "python",
   "pygments_lexer": "ipython3",
   "version": "3.6.9"
  }
 },
 "nbformat": 4,
 "nbformat_minor": 2
}
