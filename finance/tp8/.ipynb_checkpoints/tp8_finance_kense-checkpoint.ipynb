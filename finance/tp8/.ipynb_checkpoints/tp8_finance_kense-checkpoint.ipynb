{
 "cells": [
  {
   "cell_type": "markdown",
   "metadata": {},
   "source": [
    "# Computational Finance\n",
    "## Series 8\n",
    "Tientso Ning"
   ]
  },
  {
   "cell_type": "code",
   "execution_count": 5,
   "metadata": {},
   "outputs": [],
   "source": [
    "import numpy as np\n",
    "import pandas as pd\n",
    "import matplotlib.pyplot as plt\n",
    "import itertools"
   ]
  },
  {
   "cell_type": "code",
   "execution_count": 116,
   "metadata": {},
   "outputs": [],
   "source": [
    "class Agent:\n",
    "    def __init__(self, M,S):\n",
    "        #define strategies\n",
    "        self.pool = []\n",
    "        for i in range(S):\n",
    "            self.pool.append(np.random.randint(0,2,2**M))\n",
    "        \n",
    "        #define scores for strategies\n",
    "        self.scores = []\n",
    "        for i in range(len(self.pool)):\n",
    "            self.scores.append(0)\n",
    "        self.strat = None\n",
    "            \n",
    "        #player conditions\n",
    "        self.acted = False\n",
    "        self.points = 0\n",
    "    \n",
    "    def act(self, mu, history):\n",
    "        #choose strategy from pool based on score\n",
    "        self.strat = np.random.choice(np.where(self.scores==np.max(self.scores))[0])\n",
    "        selection = self.pool[self.strat]\n",
    "        \n",
    "        #act according to strategy\n",
    "        action = selection[history[mu]]\n",
    "        if action:\n",
    "            self.acted = True\n",
    "            return 1\n",
    "        else:\n",
    "            self.acted = False\n",
    "            return -1\n",
    "        \n",
    "    def update(self, attendance):\n",
    "        #update based on attendance\n",
    "        if np.sign(attendance) == np.sign(1) and self.acted:\n",
    "            #suceed, increase player points\n",
    "            self.points += 1\n",
    "            \n",
    "        else:\n",
    "            #you suck and get nothing\n",
    "            self.points -= 1\n",
    "        \n",
    "        #update strategy score\n",
    "        self.scores[self.strat] -= self.acted*attendance\n",
    "\n",
    "class Game:\n",
    "    \n",
    "    def __init__(self, N, M, T, S):\n",
    "        self.N = N\n",
    "        self.M = M\n",
    "        self.T = T\n",
    "        self.S = S\n",
    "        self.A = []\n",
    "        self.results = []\n",
    "        \n",
    "        #define the history table\n",
    "        self.history_table = {}\n",
    "        idx = 0\n",
    "        for x in itertools.product(\"01\", repeat=self.M):\n",
    "            self.history_table[\"\".join(x)] = idx\n",
    "            idx += 1\n",
    "        \n",
    "        #generate players\n",
    "        self.player = []\n",
    "        for p in range(self.N):\n",
    "            self.player.append(Agent(self.M, self.S)) #create new agent\n",
    "        \n",
    "    def run(self):\n",
    "        \n",
    "        #generate the first mu\n",
    "        mu = \"\".join(list(np.random.randint(0,2,self.M).astype(str)))\n",
    "        \n",
    "        #run for T iterations\n",
    "        for t in range(self.T):\n",
    "            \n",
    "            #clear attendance\n",
    "            self.attendance = 0\n",
    "        \n",
    "            #let each agent do their thang\n",
    "            for i in range(self.N):\n",
    "                self.attendance += self.player[i].act(mu, self.history_table)\n",
    "                self.A.append(self.attendance)\n",
    "            \n",
    "            #update\n",
    "            for i in range(self.N):\n",
    "                self.player[i].update(self.attendance)\n",
    "                \n",
    "            #update the mu\n",
    "            mu = mu+str(np.random.randint(0,2))\n",
    "            mu = mu[1:]\n",
    "        \n",
    "        #create results and publish\n",
    "        for i in range(self.N):\n",
    "            self.results.append(self.player[i].points)\n",
    "        \n",
    "        return self.results, self.A"
   ]
  },
  {
   "cell_type": "code",
   "execution_count": 124,
   "metadata": {},
   "outputs": [],
   "source": [
    "game = Game(15, 5, 100, 2)\n",
    "test_results, test_A = game.run()"
   ]
  },
  {
   "cell_type": "code",
   "execution_count": 120,
   "metadata": {},
   "outputs": [
    {
     "data": {
      "text/plain": [
       "0    5.323528\n",
       "dtype: float64"
      ]
     },
     "execution_count": 120,
     "metadata": {},
     "output_type": "execute_result"
    }
   ],
   "source": [
    "#run the game a bunch of times"
   ]
  },
  {
   "cell_type": "code",
   "execution_count": 125,
   "metadata": {},
   "outputs": [
    {
     "data": {
      "text/plain": [
       "[-44, -32, -20, -50, -18, -36, -42, -36, -46, -32, -42, -32, -38, -32, -36]"
      ]
     },
     "execution_count": 125,
     "metadata": {},
     "output_type": "execute_result"
    }
   ],
   "source": [
    "test_results"
   ]
  },
  {
   "cell_type": "code",
   "execution_count": null,
   "metadata": {},
   "outputs": [],
   "source": []
  }
 ],
 "metadata": {
  "kernelspec": {
   "display_name": "Python 3",
   "language": "python",
   "name": "python3"
  },
  "language_info": {
   "codemirror_mode": {
    "name": "ipython",
    "version": 3
   },
   "file_extension": ".py",
   "mimetype": "text/x-python",
   "name": "python",
   "nbconvert_exporter": "python",
   "pygments_lexer": "ipython3",
   "version": "3.6.9"
  }
 },
 "nbformat": 4,
 "nbformat_minor": 2
}
