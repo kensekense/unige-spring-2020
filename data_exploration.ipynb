{
 "cells": [
  {
   "cell_type": "code",
   "execution_count": 2,
   "metadata": {},
   "outputs": [],
   "source": [
    "import numpy as np\n",
    "import pandas as pd\n",
    "import matplotlib.pyplot as plt"
   ]
  },
  {
   "cell_type": "code",
   "execution_count": 6,
   "metadata": {},
   "outputs": [],
   "source": [
    "data = pd.read_excel(\"collaborative_data.xlsx\")"
   ]
  },
  {
   "cell_type": "code",
   "execution_count": 8,
   "metadata": {},
   "outputs": [
    {
     "data": {
      "text/plain": [
       "9260"
      ]
     },
     "execution_count": 8,
     "metadata": {},
     "output_type": "execute_result"
    }
   ],
   "source": [
    "len(data)"
   ]
  },
  {
   "cell_type": "code",
   "execution_count": 9,
   "metadata": {},
   "outputs": [
    {
     "data": {
      "text/html": [
       "<div>\n",
       "<style scoped>\n",
       "    .dataframe tbody tr th:only-of-type {\n",
       "        vertical-align: middle;\n",
       "    }\n",
       "\n",
       "    .dataframe tbody tr th {\n",
       "        vertical-align: top;\n",
       "    }\n",
       "\n",
       "    .dataframe thead th {\n",
       "        text-align: right;\n",
       "    }\n",
       "</style>\n",
       "<table border=\"1\" class=\"dataframe\">\n",
       "  <thead>\n",
       "    <tr style=\"text-align: right;\">\n",
       "      <th></th>\n",
       "      <th>dyad</th>\n",
       "      <th>participant</th>\n",
       "      <th>eat</th>\n",
       "      <th>start.time</th>\n",
       "      <th>end.time</th>\n",
       "      <th>duration</th>\n",
       "      <th>raw.text</th>\n",
       "      <th>collaborative.processes</th>\n",
       "      <th>collaborative.categories</th>\n",
       "      <th>give.explanation</th>\n",
       "      <th>...</th>\n",
       "      <th>accept.coordination</th>\n",
       "      <th>use.social.convention</th>\n",
       "      <th>relax.atmosphere</th>\n",
       "      <th>check.reception</th>\n",
       "      <th>give.positive.opinion</th>\n",
       "      <th>shared.emotion</th>\n",
       "      <th>unix.time.video</th>\n",
       "      <th>excel.time.video</th>\n",
       "      <th>human.time.video</th>\n",
       "      <th>human.time.emotion</th>\n",
       "    </tr>\n",
       "  </thead>\n",
       "  <tbody>\n",
       "    <tr>\n",
       "      <th>0</th>\n",
       "      <td>D02</td>\n",
       "      <td>D02P01</td>\n",
       "      <td>Oui</td>\n",
       "      <td>8.390</td>\n",
       "      <td>9.110</td>\n",
       "      <td>0.72</td>\n",
       "      <td>tu m'entends?</td>\n",
       "      <td>check.reception</td>\n",
       "      <td>Interaction management</td>\n",
       "      <td>0</td>\n",
       "      <td>...</td>\n",
       "      <td>0</td>\n",
       "      <td>0</td>\n",
       "      <td>0</td>\n",
       "      <td>1</td>\n",
       "      <td>0</td>\n",
       "      <td>interested</td>\n",
       "      <td>1340111948</td>\n",
       "      <td>41079.55496</td>\n",
       "      <td>13:19:08</td>\n",
       "      <td>13:19:02</td>\n",
       "    </tr>\n",
       "    <tr>\n",
       "      <th>1</th>\n",
       "      <td>D02</td>\n",
       "      <td>D02P02</td>\n",
       "      <td>Oui</td>\n",
       "      <td>9.380</td>\n",
       "      <td>10.290</td>\n",
       "      <td>0.91</td>\n",
       "      <td>oui je t'entends</td>\n",
       "      <td>check.reception</td>\n",
       "      <td>Interaction management</td>\n",
       "      <td>0</td>\n",
       "      <td>...</td>\n",
       "      <td>0</td>\n",
       "      <td>0</td>\n",
       "      <td>0</td>\n",
       "      <td>1</td>\n",
       "      <td>0</td>\n",
       "      <td>focused</td>\n",
       "      <td>1340111949</td>\n",
       "      <td>41079.55497</td>\n",
       "      <td>13:19:09</td>\n",
       "      <td>13:19:04</td>\n",
       "    </tr>\n",
       "    <tr>\n",
       "      <th>2</th>\n",
       "      <td>D02</td>\n",
       "      <td>D02P01</td>\n",
       "      <td>Oui</td>\n",
       "      <td>10.300</td>\n",
       "      <td>10.650</td>\n",
       "      <td>0.35</td>\n",
       "      <td>ck</td>\n",
       "      <td>check.reception</td>\n",
       "      <td>Interaction management</td>\n",
       "      <td>0</td>\n",
       "      <td>...</td>\n",
       "      <td>0</td>\n",
       "      <td>0</td>\n",
       "      <td>0</td>\n",
       "      <td>1</td>\n",
       "      <td>0</td>\n",
       "      <td>NaN</td>\n",
       "      <td>1340111950</td>\n",
       "      <td>41079.55498</td>\n",
       "      <td>13:19:10</td>\n",
       "      <td>NaN</td>\n",
       "    </tr>\n",
       "    <tr>\n",
       "      <th>3</th>\n",
       "      <td>D02</td>\n",
       "      <td>D02P01</td>\n",
       "      <td>Oui</td>\n",
       "      <td>10.725</td>\n",
       "      <td>11.175</td>\n",
       "      <td>0.45</td>\n",
       "      <td>(rire)</td>\n",
       "      <td>relax.atmosphere</td>\n",
       "      <td>Social relation</td>\n",
       "      <td>0</td>\n",
       "      <td>...</td>\n",
       "      <td>0</td>\n",
       "      <td>0</td>\n",
       "      <td>1</td>\n",
       "      <td>0</td>\n",
       "      <td>0</td>\n",
       "      <td>NaN</td>\n",
       "      <td>1340111951</td>\n",
       "      <td>41079.55499</td>\n",
       "      <td>13:19:11</td>\n",
       "      <td>NaN</td>\n",
       "    </tr>\n",
       "    <tr>\n",
       "      <th>4</th>\n",
       "      <td>D02</td>\n",
       "      <td>D02P02</td>\n",
       "      <td>Oui</td>\n",
       "      <td>11.240</td>\n",
       "      <td>11.590</td>\n",
       "      <td>0.35</td>\n",
       "      <td>(rire)</td>\n",
       "      <td>relax.atmosphere</td>\n",
       "      <td>Social relation</td>\n",
       "      <td>0</td>\n",
       "      <td>...</td>\n",
       "      <td>0</td>\n",
       "      <td>0</td>\n",
       "      <td>1</td>\n",
       "      <td>0</td>\n",
       "      <td>0</td>\n",
       "      <td>NaN</td>\n",
       "      <td>1340111951</td>\n",
       "      <td>41079.55499</td>\n",
       "      <td>13:19:11</td>\n",
       "      <td>NaN</td>\n",
       "    </tr>\n",
       "  </tbody>\n",
       "</table>\n",
       "<p>5 rows × 42 columns</p>\n",
       "</div>"
      ],
      "text/plain": [
       "  dyad participant  eat  start.time  end.time  duration          raw.text  \\\n",
       "0  D02      D02P01  Oui       8.390     9.110      0.72     tu m'entends?   \n",
       "1  D02      D02P02  Oui       9.380    10.290      0.91  oui je t'entends   \n",
       "2  D02      D02P01  Oui      10.300    10.650      0.35                ck   \n",
       "3  D02      D02P01  Oui      10.725    11.175      0.45            (rire)   \n",
       "4  D02      D02P02  Oui      11.240    11.590      0.35            (rire)   \n",
       "\n",
       "  collaborative.processes collaborative.categories  give.explanation  \\\n",
       "0         check.reception   Interaction management                 0   \n",
       "1         check.reception   Interaction management                 0   \n",
       "2         check.reception   Interaction management                 0   \n",
       "3        relax.atmosphere          Social relation                 0   \n",
       "4        relax.atmosphere          Social relation                 0   \n",
       "\n",
       "          ...          accept.coordination  use.social.convention  \\\n",
       "0         ...                            0                      0   \n",
       "1         ...                            0                      0   \n",
       "2         ...                            0                      0   \n",
       "3         ...                            0                      0   \n",
       "4         ...                            0                      0   \n",
       "\n",
       "   relax.atmosphere  check.reception  give.positive.opinion  shared.emotion  \\\n",
       "0                 0                1                      0      interested   \n",
       "1                 0                1                      0         focused   \n",
       "2                 0                1                      0             NaN   \n",
       "3                 1                0                      0             NaN   \n",
       "4                 1                0                      0             NaN   \n",
       "\n",
       "   unix.time.video  excel.time.video  human.time.video  human.time.emotion  \n",
       "0       1340111948       41079.55496          13:19:08            13:19:02  \n",
       "1       1340111949       41079.55497          13:19:09            13:19:04  \n",
       "2       1340111950       41079.55498          13:19:10                 NaN  \n",
       "3       1340111951       41079.55499          13:19:11                 NaN  \n",
       "4       1340111951       41079.55499          13:19:11                 NaN  \n",
       "\n",
       "[5 rows x 42 columns]"
      ]
     },
     "execution_count": 9,
     "metadata": {},
     "output_type": "execute_result"
    }
   ],
   "source": [
    "data.head()"
   ]
  },
  {
   "cell_type": "code",
   "execution_count": 12,
   "metadata": {},
   "outputs": [
    {
     "data": {
      "text/plain": [
       "array(['Interaction management', 'Social relation', 'Task management',\n",
       "       'Information', 'Transactivity', 'Other', 'Tool',\n",
       "       'Outside activity'], dtype=object)"
      ]
     },
     "execution_count": 12,
     "metadata": {},
     "output_type": "execute_result"
    }
   ],
   "source": [
    "data[\"collaborative.categories\"].unique()"
   ]
  },
  {
   "cell_type": "code",
   "execution_count": 13,
   "metadata": {},
   "outputs": [
    {
     "data": {
      "text/plain": [
       "array(['check.reception', 'relax.atmosphere', 'use.social.convention',\n",
       "       'accept.coordination', 'display.reflection', 'manage.task',\n",
       "       'elicit.task.information', 'give.proposition',\n",
       "       'give.positive.opinion', 'display.active.listening', 'agree',\n",
       "       'give.task.information', 'other', 'coordinate.teamwork',\n",
       "       'give.recall', 'elicit.proposition', 'give.self.information',\n",
       "       'manage.tool', 'incorporate', 'elicit.recall', 'elicit.opinion',\n",
       "       'display.solidarity', 'elicit.partner.information',\n",
       "       'give.negative.opinion', 'check.comprehension',\n",
       "       'refuse.coordination', 'give.explanation', 'outside.activity',\n",
       "       'display.hostility'], dtype=object)"
      ]
     },
     "execution_count": 13,
     "metadata": {},
     "output_type": "execute_result"
    }
   ],
   "source": [
    "data[\"collaborative.processes\"].unique()"
   ]
  },
  {
   "cell_type": "code",
   "execution_count": 14,
   "metadata": {},
   "outputs": [
    {
     "data": {
      "text/plain": [
       "Transactivity             3036\n",
       "Interaction management    2201\n",
       "Information               1402\n",
       "Other                      930\n",
       "Task management            573\n",
       "Tool                       560\n",
       "Social relation            504\n",
       "Outside activity            54\n",
       "Name: collaborative.categories, dtype: int64"
      ]
     },
     "execution_count": 14,
     "metadata": {},
     "output_type": "execute_result"
    }
   ],
   "source": [
    "data[\"collaborative.categories\"].value_counts()"
   ]
  },
  {
   "cell_type": "code",
   "execution_count": 15,
   "metadata": {},
   "outputs": [
    {
     "data": {
      "text/plain": [
       "give.positive.opinion         1061\n",
       "other                          930\n",
       "agree                          899\n",
       "accept.coordination            797\n",
       "display.reflection             775\n",
       "manage.task                    573\n",
       "manage.tool                    560\n",
       "give.proposition               559\n",
       "give.task.information          422\n",
       "relax.atmosphere               389\n",
       "give.self.information          342\n",
       "give.recall                    315\n",
       "elicit.opinion                 268\n",
       "display.active.listening       235\n",
       "coordinate.teamwork            200\n",
       "elicit.task.information        164\n",
       "give.negative.opinion          133\n",
       "check.reception                121\n",
       "elicit.partner.information      75\n",
       "use.social.convention           60\n",
       "incorporate                     60\n",
       "elicit.proposition              56\n",
       "outside.activity                54\n",
       "display.solidarity              54\n",
       "check.comprehension             48\n",
       "give.explanation                47\n",
       "elicit.recall                   37\n",
       "refuse.coordination             25\n",
       "display.hostility                1\n",
       "Name: collaborative.processes, dtype: int64"
      ]
     },
     "execution_count": 15,
     "metadata": {},
     "output_type": "execute_result"
    }
   ],
   "source": [
    "data[\"collaborative.processes\"].value_counts()"
   ]
  },
  {
   "cell_type": "code",
   "execution_count": 16,
   "metadata": {},
   "outputs": [
    {
     "data": {
      "text/plain": [
       "42                                                 (rire)\n",
       "52                                                euh (.)\n",
       "54                                        jsais pas si ::\n",
       "65                                           voilà (rire)\n",
       "66                                          nickel (rire)\n",
       "73                                                     ok\n",
       "145                                            ok! génial\n",
       "146                                               voilà /\n",
       "180     respecter les autres c'est (clavier) se (clavi...\n",
       "184                                            et voilà \\\n",
       "185                                               ouais \\\n",
       "191                                             (rire) ok\n",
       "221                                                    hm\n",
       "222                                     un truc comme ça?\n",
       "240                                                    ok\n",
       "245                                    ouais jcrois que :\n",
       "275                                                   tac\n",
       "285                                                    ok\n",
       "295                                                 ouais\n",
       "311                                         voilà \\ hm ::\n",
       "328                                               genre :\n",
       "344                                               hm hm /\n",
       "345                                               (inaud)\n",
       "377                                                    ok\n",
       "378                                               ouais /\n",
       "380                                                    ok\n",
       "420                                     alors (..) attend\n",
       "471                                                 hm hm\n",
       "482                                          genre euh ::\n",
       "492                                                    hm\n",
       "                              ...                        \n",
       "9062                                                 okay\n",
       "9063                                             ok ouais\n",
       "9071                                                voilà\n",
       "9074                                                alors\n",
       "9076                                                 ok /\n",
       "9077                                              émotion\n",
       "9092                                               hop là\n",
       "9120                                          nin nin nin\n",
       "9121                                                alors\n",
       "9122                                              (inaud)\n",
       "9139                                            peut-être\n",
       "9143                                      bah alors voilà\n",
       "9144                                             ok juste\n",
       "9161                                                   ok\n",
       "9163                                       ouais (.) ok /\n",
       "9171                                          alors voilà\n",
       "9173                                             meilleur\n",
       "9184                                                   hm\n",
       "9208                                      ah non merde ok\n",
       "9214                                            ah ici ok\n",
       "9221           tu vois parce que c'est ça qui est en fait\n",
       "9233                                                   ok\n",
       "9237                                                tac :\n",
       "9244                                       tac (.) et pis\n",
       "9254                                                   ok\n",
       "9255                                                 okay\n",
       "9256                                                  oui\n",
       "9257                                                hm hm\n",
       "9258                                   ça s'enregistre ok\n",
       "9259                                                   ok\n",
       "Name: raw.text, Length: 930, dtype: object"
      ]
     },
     "execution_count": 16,
     "metadata": {},
     "output_type": "execute_result"
    }
   ],
   "source": [
    "data[\"raw.text\"][data[\"collaborative.processes\"] == \"other\"]"
   ]
  },
  {
   "cell_type": "code",
   "execution_count": 17,
   "metadata": {},
   "outputs": [
    {
     "data": {
      "text/plain": [
       "2163    ah ouais j'lai jl'ai pas vue j'pense mais je j...\n",
       "2378    si si on devait recollé re re recollaboré ense...\n",
       "2550    ouais ouais c'est pour ça ouais finalement ils...\n",
       "3360                                celui-là à moitié tac\n",
       "3515    exatement pis après en tout petit c'est marqué...\n",
       "3652    bon encore une fois ensuite ça ça dépend aussi...\n",
       "3653    (rire) j'étais pas au cylce j'étais euh en Fra...\n",
       "3654                       d'accord euh ton : ton lycée /\n",
       "3655                           euh ton ton collège pardon\n",
       "3656                euh lycée oui c'était à : à st julien\n",
       "3657    à De Stael (..) j'ai fait scientifique et rien...\n",
       "3658                     mais le : le collège en France /\n",
       "3659                                                hein?\n",
       "3660                                           en France?\n",
       "3661                                      ouais en France\n",
       "3662    d'accord (.) mais c'est : tu considères ça com...\n",
       "3663    non c'était quand même plutôt assez aisé c'éta...\n",
       "3664    aisé? d'accord ouais parce que moi en fait je ...\n",
       "3702        en avec d'autres insultes au milieu hein mais\n",
       "3945    (rire) j'sais pas j'ai eu le temps de penser p...\n",
       "4089           ouais hein souvent on dit que la 1ère idée\n",
       "4212          c'est assez pratique en fait ce système euh\n",
       "4213                             ouais j'aime bien (rire)\n",
       "4214                                       pour réfléchir\n",
       "4215          ça met vraiment sur papier toutes les idées\n",
       "4216                                          ouais ouais\n",
       "4217    mais c'est vrai que si t'as plusieurs plus que...\n",
       "4218           bah après ça fait beaucoup de flèches hein\n",
       "4219               ouais ça doit vite faire le boxon quoi\n",
       "4220                                                ouais\n",
       "4221    et si t'es à plusieurs là on est à 2 aussi mai...\n",
       "4239    c'est assez joli cette (rire) cette espèce de ...\n",
       "4240                                               (rire)\n",
       "5097    et psychique ouais (.) c'est bien j'ai trop ch...\n",
       "6693                                                 hm :\n",
       "6694                                      ouais le poster\n",
       "6695                  ah je sais pas si c'est vrai ou pas\n",
       "6696                          quelle image serait bien hm\n",
       "6697    bon ça c'est ça serait plutôt : soit : une vic...\n",
       "6698    ouais un peu deux gens (.) qui tape-là qui fon...\n",
       "6699                                                ouais\n",
       "6700          (rire) ouais (rire) ouais ouais je comprend\n",
       "6701                                                   hm\n",
       "6702                                    ouais je sais pas\n",
       "6703    tape là ne me tape pas et pis t'as un match de...\n",
       "6704                                             comment?\n",
       "6705    un match de boxe avec deux boxeurs bon ça ça i...\n",
       "6706                                         (rire) ouais\n",
       "6707                                 non c'est une blague\n",
       "6708    c'est pour ça qu'ils se saluent au début tu vo...\n",
       "6709                                               (rire)\n",
       "6710                                       (rire) non euh\n",
       "8505    en fait nous sommes en train de faire l'expéri...\n",
       "8507             y en a 3 de bien mais on a droit qu'à un\n",
       "Name: raw.text, dtype: object"
      ]
     },
     "execution_count": 17,
     "metadata": {},
     "output_type": "execute_result"
    }
   ],
   "source": [
    "data[\"raw.text\"][data[\"collaborative.processes\"] == \"outside.activity\"]"
   ]
  },
  {
   "cell_type": "code",
   "execution_count": 18,
   "metadata": {},
   "outputs": [
    {
     "data": {
      "text/plain": [
       "D29P02    380\n",
       "D04P01    367\n",
       "D29P01    358\n",
       "D06P01    354\n",
       "D08P02    352\n",
       "D08P01    345\n",
       "D06P02    338\n",
       "D27P01    337\n",
       "D02P01    335\n",
       "D27P02    330\n",
       "D07P01    330\n",
       "D04P02    318\n",
       "D05P02    310\n",
       "D05P01    303\n",
       "D24P02    295\n",
       "D15P01    289\n",
       "D02P02    289\n",
       "D07P02    283\n",
       "D15P02    275\n",
       "D20P01    272\n",
       "D20P02    256\n",
       "D24P01    253\n",
       "D21P01    243\n",
       "D16P01    228\n",
       "D09P01    214\n",
       "D16P02    191\n",
       "D26P02    184\n",
       "D10P01    164\n",
       "D09P02    157\n",
       "D10P02    156\n",
       "D23P02    153\n",
       "D26P01    150\n",
       "D21P02    133\n",
       "D23P01    106\n",
       "D13P01     64\n",
       "D13P02     63\n",
       "D12P01     56\n",
       "D12P02     29\n",
       "Name: participant, dtype: int64"
      ]
     },
     "execution_count": 18,
     "metadata": {},
     "output_type": "execute_result"
    }
   ],
   "source": [
    "data[\"participant\"].value_counts()"
   ]
  },
  {
   "cell_type": "code",
   "execution_count": 22,
   "metadata": {},
   "outputs": [
    {
     "name": "stdout",
     "output_type": "stream",
     "text": [
      "['D02P01' 'D02P02' 'D04P01' 'D04P02' 'D05P01' 'D05P02' 'D06P01' 'D06P02'\n",
      " 'D07P01' 'D07P02' 'D08P01' 'D08P02' 'D09P01' 'D09P02' 'D10P01' 'D10P02'\n",
      " 'D12P01' 'D12P02' 'D13P01' 'D13P02' 'D15P01' 'D15P02' 'D16P01' 'D16P02'\n",
      " 'D20P01' 'D20P02' 'D21P01' 'D21P02' 'D23P01' 'D23P02' 'D24P01' 'D24P02'\n",
      " 'D26P02' 'D26P01' 'D27P01' 'D27P02' 'D29P01' 'D29P02'] 38\n"
     ]
    }
   ],
   "source": [
    "print(data[\"participant\"].unique(), len(data[\"participant\"].unique()))"
   ]
  },
  {
   "cell_type": "code",
   "execution_count": null,
   "metadata": {},
   "outputs": [],
   "source": []
  }
 ],
 "metadata": {
  "kernelspec": {
   "display_name": "Python 3",
   "language": "python",
   "name": "python3"
  },
  "language_info": {
   "codemirror_mode": {
    "name": "ipython",
    "version": 3
   },
   "file_extension": ".py",
   "mimetype": "text/x-python",
   "name": "python",
   "nbconvert_exporter": "python",
   "pygments_lexer": "ipython3",
   "version": "3.6.8"
  }
 },
 "nbformat": 4,
 "nbformat_minor": 2
}
