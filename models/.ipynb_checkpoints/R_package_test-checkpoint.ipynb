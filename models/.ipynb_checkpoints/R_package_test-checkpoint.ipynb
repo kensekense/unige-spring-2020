{
 "cells": [
  {
   "cell_type": "code",
   "execution_count": 1,
   "metadata": {},
   "outputs": [
    {
     "name": "stderr",
     "output_type": "stream",
     "text": [
      "also installing the dependencies 'miniUI', 'eventdataR'\n",
      "\n"
     ]
    },
    {
     "name": "stdout",
     "output_type": "stream",
     "text": [
      "package 'miniUI' successfully unpacked and MD5 sums checked\n",
      "package 'eventdataR' successfully unpacked and MD5 sums checked\n",
      "package 'bupaR' successfully unpacked and MD5 sums checked\n",
      "\n",
      "The downloaded binary packages are in\n",
      "\tC:\\Users\\liveo\\AppData\\Local\\Temp\\RtmpYbPEte\\downloaded_packages\n"
     ]
    },
    {
     "name": "stderr",
     "output_type": "stream",
     "text": [
      "also installing the dependencies 'ggthemes', 'shinyTime'\n",
      "\n"
     ]
    },
    {
     "name": "stdout",
     "output_type": "stream",
     "text": [
      "package 'ggthemes' successfully unpacked and MD5 sums checked\n",
      "package 'shinyTime' successfully unpacked and MD5 sums checked\n",
      "package 'edeaR' successfully unpacked and MD5 sums checked\n",
      "\n",
      "The downloaded binary packages are in\n",
      "\tC:\\Users\\liveo\\AppData\\Local\\Temp\\RtmpYbPEte\\downloaded_packages\n",
      "package 'eventdataR' successfully unpacked and MD5 sums checked\n",
      "\n",
      "The downloaded binary packages are in\n",
      "\tC:\\Users\\liveo\\AppData\\Local\\Temp\\RtmpYbPEte\\downloaded_packages\n"
     ]
    },
    {
     "name": "stderr",
     "output_type": "stream",
     "text": [
      "also installing the dependencies 'gridExtra', 'downloader', 'igraph', 'influenceR', 'viridis', 'visNetwork', 'crosstalk', 'DiagrammeR', 'plotly'\n",
      "\n"
     ]
    },
    {
     "name": "stdout",
     "output_type": "stream",
     "text": [
      "package 'gridExtra' successfully unpacked and MD5 sums checked\n",
      "package 'downloader' successfully unpacked and MD5 sums checked\n",
      "package 'igraph' successfully unpacked and MD5 sums checked\n",
      "package 'influenceR' successfully unpacked and MD5 sums checked\n",
      "package 'viridis' successfully unpacked and MD5 sums checked\n",
      "package 'visNetwork' successfully unpacked and MD5 sums checked\n",
      "package 'crosstalk' successfully unpacked and MD5 sums checked\n",
      "package 'DiagrammeR' successfully unpacked and MD5 sums checked\n",
      "package 'plotly' successfully unpacked and MD5 sums checked\n",
      "package 'processmapR' successfully unpacked and MD5 sums checked\n",
      "\n",
      "The downloaded binary packages are in\n",
      "\tC:\\Users\\liveo\\AppData\\Local\\Temp\\RtmpYbPEte\\downloaded_packages\n",
      "package 'processmonitR' successfully unpacked and MD5 sums checked\n",
      "\n",
      "The downloaded binary packages are in\n",
      "\tC:\\Users\\liveo\\AppData\\Local\\Temp\\RtmpYbPEte\\downloaded_packages\n"
     ]
    },
    {
     "name": "stderr",
     "output_type": "stream",
     "text": [
      "also installing the dependency 'XML'\n",
      "\n"
     ]
    },
    {
     "name": "stdout",
     "output_type": "stream",
     "text": [
      "package 'XML' successfully unpacked and MD5 sums checked\n",
      "package 'xesreadR' successfully unpacked and MD5 sums checked\n",
      "\n",
      "The downloaded binary packages are in\n",
      "\tC:\\Users\\liveo\\AppData\\Local\\Temp\\RtmpYbPEte\\downloaded_packages\n",
      "package 'petrinetR' successfully unpacked and MD5 sums checked\n",
      "\n",
      "The downloaded binary packages are in\n",
      "\tC:\\Users\\liveo\\AppData\\Local\\Temp\\RtmpYbPEte\\downloaded_packages\n"
     ]
    }
   ],
   "source": [
    "install.packages(\"bupaR\")\n",
    "install.packages(\"edeaR\")\n",
    "install.packages(\"eventdataR\")\n",
    "install.packages(\"processmapR\")\n",
    "install.packages(\"processmonitR\")\n",
    "install.packages(\"xesreadR\")\n",
    "install.packages(\"petrinetR\")"
   ]
  },
  {
   "cell_type": "code",
   "execution_count": 2,
   "metadata": {},
   "outputs": [
    {
     "name": "stderr",
     "output_type": "stream",
     "text": [
      "Warning message:\n",
      "\"package 'bupaR' was built under R version 3.6.3\"Loading required package: edeaR\n",
      "Warning message:\n",
      "\"package 'edeaR' was built under R version 3.6.3\"Registered S3 methods overwritten by 'ggplot2':\n",
      "  method         from \n",
      "  [.quosures     rlang\n",
      "  c.quosures     rlang\n",
      "  print.quosures rlang\n",
      "Loading required package: eventdataR\n",
      "Warning message:\n",
      "\"package 'eventdataR' was built under R version 3.6.3\"Loading required package: processmapR\n",
      "Warning message:\n",
      "\"package 'processmapR' was built under R version 3.6.3\"Loading required package: xesreadR\n",
      "Warning message:\n",
      "\"package 'xesreadR' was built under R version 3.6.3\"Loading required package: processmonitR\n",
      "Warning message:\n",
      "\"package 'processmonitR' was built under R version 3.6.3\"Loading required package: petrinetR\n",
      "Warning message:\n",
      "\"package 'petrinetR' was built under R version 3.6.3\"\n",
      "Attaching package: 'bupaR'\n",
      "\n",
      "The following object is masked from 'package:stats':\n",
      "\n",
      "    filter\n",
      "\n",
      "The following object is masked from 'package:utils':\n",
      "\n",
      "    timestamp\n",
      "\n"
     ]
    }
   ],
   "source": [
    "library(bupaR)"
   ]
  },
  {
   "cell_type": "code",
   "execution_count": 3,
   "metadata": {},
   "outputs": [],
   "source": [
    "test_data <- read.table(\"test_data.csv\", header=FALSE)"
   ]
  },
  {
   "cell_type": "code",
   "execution_count": 9,
   "metadata": {},
   "outputs": [
    {
     "name": "stderr",
     "output_type": "stream",
     "text": [
      "Loading required package: shiny\n",
      "\n",
      "Listening on http://127.0.0.1:7465\n"
     ]
    },
    {
     "ename": "ERROR",
     "evalue": "Error in eventlog.data.frame(eventlog = eventlog, case_id = input$case_id, : Timestamp should be a POSIXct or Date variable.\n",
     "output_type": "error",
     "traceback": [
      "Error in eventlog.data.frame(eventlog = eventlog, case_id = input$case_id, : Timestamp should be a POSIXct or Date variable.\nTraceback:\n",
      "1. bupaR::ieventlog(eventlog = test_data)",
      "2. runGadget(ui, server, viewer = dialogViewer(\"Create event log\", \n .     height = 400))",
      "3. shiny::runApp(app, port = port, launch.browser = viewer)"
     ]
    }
   ],
   "source": [
    "bupaR::ieventlog(eventlog = test_data)"
   ]
  },
  {
   "cell_type": "code",
   "execution_count": 14,
   "metadata": {},
   "outputs": [],
   "source": [
    "library(readxl)\n",
    "test_data <-read_excel(\"collaborative_data.xlsx\")"
   ]
  },
  {
   "cell_type": "code",
   "execution_count": 16,
   "metadata": {},
   "outputs": [
    {
     "ename": "ERROR",
     "evalue": "Error in eventlog.data.frame(eventlog, case_id, activity_id, activity_instance_id, : Timestamp should be a POSIXct or Date variable.\n",
     "output_type": "error",
     "traceback": [
      "Error in eventlog.data.frame(eventlog, case_id, activity_id, activity_instance_id, : Timestamp should be a POSIXct or Date variable.\nTraceback:\n",
      "1. bupaR::simple_eventlog(eventlog = test_data, case_id = \"participant\", \n .     activity_id = \"collaborative.processes\", timestamp = \"start.time\")",
      "2. eventlog(eventlog, case_id, activity_id, activity_instance_id, \n .     lifecycle_id, timestamp, resource_id, order = order, validate = validate) %>% \n .     return()",
      "3. eval(lhs, parent, parent)",
      "4. eval(lhs, parent, parent)",
      "5. eventlog(eventlog, case_id, activity_id, activity_instance_id, \n .     lifecycle_id, timestamp, resource_id, order = order, validate = validate)",
      "6. eventlog.data.frame(eventlog, case_id, activity_id, activity_instance_id, \n .     lifecycle_id, timestamp, resource_id, order = order, validate = validate)",
      "7. stop(\"Timestamp should be a POSIXct or Date variable.\")"
     ]
    }
   ],
   "source": [
    "bupaR::simple_eventlog(eventlog = test_data,\n",
    "case_id = \"participant\",\n",
    "activity_id = \"collaborative.processes\",\n",
    "timestamp = \"start.time\")"
   ]
  },
  {
   "cell_type": "code",
   "execution_count": null,
   "metadata": {},
   "outputs": [],
   "source": []
  }
 ],
 "metadata": {
  "kernelspec": {
   "display_name": "R",
   "language": "R",
   "name": "ir"
  },
  "language_info": {
   "codemirror_mode": "r",
   "file_extension": ".r",
   "mimetype": "text/x-r-source",
   "name": "R",
   "pygments_lexer": "r",
   "version": "3.6.1"
  }
 },
 "nbformat": 4,
 "nbformat_minor": 4
}
