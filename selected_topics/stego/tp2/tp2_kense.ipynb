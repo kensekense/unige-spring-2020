{
 "cells": [
  {
   "cell_type": "markdown",
   "metadata": {},
   "source": [
    "# Stegoanalysis Exercise 2\n",
    "Tientso Ning"
   ]
  },
  {
   "cell_type": "code",
   "execution_count": 1,
   "metadata": {},
   "outputs": [],
   "source": [
    "import numpy as np\n",
    "import pandas as pd\n",
    "import cv2\n",
    "import matplotlib.pyplot as plt\n",
    "import scipy.io as scipy\n",
    "\n",
    "%matplotlib inline"
   ]
  },
  {
   "cell_type": "code",
   "execution_count": 2,
   "metadata": {},
   "outputs": [],
   "source": [
    "#load prepared\n",
    "cover = scipy.loadmat(\"./example/cover.mat\")\n",
    "stego = scipy.loadmat(\"./example/stego.mat\")"
   ]
  },
  {
   "cell_type": "code",
   "execution_count": 3,
   "metadata": {},
   "outputs": [
    {
     "name": "stdout",
     "output_type": "stream",
     "text": [
      "(2000, 548)\n",
      "(1994, 548)\n"
     ]
    }
   ],
   "source": [
    "#show that features are de-synchronized\n",
    "print(cover['F'].shape)\n",
    "print(stego['F'].shape)"
   ]
  },
  {
   "cell_type": "code",
   "execution_count": 4,
   "metadata": {},
   "outputs": [
    {
     "data": {
      "text/plain": [
       "(1994,)"
      ]
     },
     "execution_count": 4,
     "metadata": {},
     "output_type": "execute_result"
    }
   ],
   "source": [
    "#Restriction to the 1994 that have both cover and stego features\n",
    "names = np.intersect1d(cover['names'],stego['names'])\n",
    "names = np.sort(names)\n",
    "names.shape"
   ]
  },
  {
   "cell_type": "code",
   "execution_count": 5,
   "metadata": {},
   "outputs": [],
   "source": [
    "#prep the cover features C\n",
    "cover_names = cover['names'][np.isin(cover['names'], names)]\n",
    "ix = np.argsort(cover_names)\n",
    "C = cover['F'][ix,:]"
   ]
  },
  {
   "cell_type": "code",
   "execution_count": 6,
   "metadata": {},
   "outputs": [],
   "source": [
    "#prep the stego features S\n",
    "stego_names = stego['names'][np.isin(stego['names'], names)]\n",
    "ix = np.argsort(stego_names)\n",
    "S = stego['F'][ix,:]"
   ]
  },
  {
   "cell_type": "code",
   "execution_count": 7,
   "metadata": {},
   "outputs": [
    {
     "name": "stdout",
     "output_type": "stream",
     "text": [
      "(1994, 548)\n",
      "(1994, 548)\n"
     ]
    }
   ],
   "source": [
    "print(C.shape)\n",
    "print(S.shape)"
   ]
  },
  {
   "cell_type": "code",
   "execution_count": 8,
   "metadata": {},
   "outputs": [],
   "source": [
    "#set random state\n",
    "np.random.RandomState(1)\n",
    "\n",
    "#division into training/testing\n",
    "size_training = 0.5\n",
    "random_permutation = np.random.permutation(C.shape[1])\n",
    "training_set = random_permutation[0:np.around(C.shape[1]*size_training).astype(int)]\n",
    "testing_set = random_permutation[np.around(C.shape[1]*size_training).astype(int):]\n",
    "training_names = names[training_set]\n",
    "testing_names = names[testing_set]"
   ]
  },
  {
   "cell_type": "code",
   "execution_count": 9,
   "metadata": {},
   "outputs": [],
   "source": [
    "#prepare training features\n",
    "TRN_cover = C[training_set,:]\n",
    "TRN_stego = S[training_set,:]"
   ]
  },
  {
   "cell_type": "code",
   "execution_count": 10,
   "metadata": {},
   "outputs": [],
   "source": [
    "#prepare testing features\n",
    "TST_cover = C[testing_set,:]\n",
    "TST_stego = S[testing_set,:]"
   ]
  }
 ],
 "metadata": {
  "kernelspec": {
   "display_name": "Python 3",
   "language": "python",
   "name": "python3"
  },
  "language_info": {
   "codemirror_mode": {
    "name": "ipython",
    "version": 3
   },
   "file_extension": ".py",
   "mimetype": "text/x-python",
   "name": "python",
   "nbconvert_exporter": "python",
   "pygments_lexer": "ipython3",
   "version": "3.6.8"
  }
 },
 "nbformat": 4,
 "nbformat_minor": 2
}
