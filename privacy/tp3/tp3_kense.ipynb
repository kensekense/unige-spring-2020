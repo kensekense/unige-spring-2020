{
 "cells": [
  {
   "cell_type": "markdown",
   "metadata": {},
   "source": [
    "# Multimedia Security and Privacy\n",
    "## TP 3\n",
    "Tientso Ning"
   ]
  },
  {
   "cell_type": "code",
   "execution_count": 5,
   "metadata": {},
   "outputs": [],
   "source": [
    "import numpy as np\n",
    "import matplotlib.pyplot as plt\n",
    "from scipy.stats import norm"
   ]
  },
  {
   "cell_type": "code",
   "execution_count": 69,
   "metadata": {},
   "outputs": [
    {
     "data": {
      "text/plain": [
       "True"
      ]
     },
     "execution_count": 69,
     "metadata": {},
     "output_type": "execute_result"
    }
   ],
   "source": [
    "#confirm some properties\n",
    "norm.cdf(1) == 1-norm.cdf(-1)"
   ]
  },
  {
   "cell_type": "code",
   "execution_count": 75,
   "metadata": {},
   "outputs": [
    {
     "name": "stdout",
     "output_type": "stream",
     "text": [
      "P[-2 < Y < 1] = 0.3780661222713134\n",
      "P[Y > 5.5] = 0.03337650758481725\n"
     ]
    }
   ],
   "source": [
    "#Exercise 1\n",
    "print(\"P[-2 < Y < 1] =\", norm.cdf(1, loc=0, scale=3) - norm.cdf(-2, loc=0, scale=3))\n",
    "print(\"P[Y > 5.5] =\", 1-norm.cdf(5.5, loc=0, scale=3))"
   ]
  },
  {
   "cell_type": "code",
   "execution_count": 76,
   "metadata": {},
   "outputs": [
    {
     "name": "stdout",
     "output_type": "stream",
     "text": [
      "P[-2 < X < 2] = 0.9544997361036416\n",
      "P[X > 1.5] = 0.06680720126885809\n"
     ]
    }
   ],
   "source": [
    "#Exercise 1\n",
    "print(\"P[-2 < X < 2] =\", norm.cdf(2)-(1-norm.cdf(2)))\n",
    "print(\"P[X > 1.5] =\", 1-norm.cdf(1.5))"
   ]
  },
  {
   "cell_type": "code",
   "execution_count": 82,
   "metadata": {},
   "outputs": [
    {
     "name": "stdout",
     "output_type": "stream",
     "text": [
      "P[X > 35] = 0.32471814186337733\n",
      "P[X < 5] = 0.01152131004388092\n",
      "P[20 < X < 40] = 0.6366978591131021\n"
     ]
    }
   ],
   "source": [
    "#Exercise 2\n",
    "mu = 30\n",
    "sigma = 11\n",
    "print(\"P[X > 35] =\", 1-norm.cdf(35, loc=mu, scale=sigma))\n",
    "print(\"P[X < 5] =\", norm.cdf(5, loc=mu, scale=sigma))\n",
    "print(\"P[20 < X < 40] =\", norm.cdf(40, loc=mu, scale=sigma)-norm.cdf(20, loc=mu, scale=sigma))"
   ]
  },
  {
   "cell_type": "code",
   "execution_count": 162,
   "metadata": {},
   "outputs": [],
   "source": [
    "#Exercise 3"
   ]
  },
  {
   "cell_type": "code",
   "execution_count": 215,
   "metadata": {},
   "outputs": [
    {
     "name": "stdout",
     "output_type": "stream",
     "text": [
      "True\n",
      "True\n",
      "0.8969658353025864\n",
      "True\n"
     ]
    }
   ],
   "source": [
    "#Exercise 4\n",
    "from scipy import special\n",
    "x = norm.rvs()\n",
    "print(special.erfc(x) == 1-special.erf(x)) #erf is the complement of erfc\n",
    "print(norm.sf(x) == 1-norm.cdf(x)) #Qfunction is the complement of CDF\n",
    "print(0.5*special.erfc(x/np.sqrt(2))) #the definition of Q(n) given\n",
    "print(0.5*special.erfc(x/np.sqrt(2)) == norm.sf(x)) #they are equivalent"
   ]
  },
  {
   "cell_type": "code",
   "execution_count": null,
   "metadata": {},
   "outputs": [],
   "source": []
  }
 ],
 "metadata": {
  "kernelspec": {
   "display_name": "Python 3",
   "language": "python",
   "name": "python3"
  },
  "language_info": {
   "codemirror_mode": {
    "name": "ipython",
    "version": 3
   },
   "file_extension": ".py",
   "mimetype": "text/x-python",
   "name": "python",
   "nbconvert_exporter": "python",
   "pygments_lexer": "ipython3",
   "version": "3.6.8"
  }
 },
 "nbformat": 4,
 "nbformat_minor": 2
}
