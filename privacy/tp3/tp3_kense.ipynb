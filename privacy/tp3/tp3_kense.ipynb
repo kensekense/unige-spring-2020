{
 "cells": [
  {
   "cell_type": "markdown",
   "metadata": {},
   "source": [
    "# Multimedia Security and Privacy\n",
    "## TP 3\n",
    "Tientso Ning"
   ]
  },
  {
   "cell_type": "code",
   "execution_count": 2,
   "metadata": {},
   "outputs": [],
   "source": [
    "import numpy as np\n",
    "import matplotlib.pyplot as plt\n",
    "from scipy.stats import norm"
   ]
  },
  {
   "cell_type": "code",
   "execution_count": 3,
   "metadata": {},
   "outputs": [
    {
     "data": {
      "text/plain": [
       "True"
      ]
     },
     "execution_count": 3,
     "metadata": {},
     "output_type": "execute_result"
    }
   ],
   "source": [
    "#confirm some properties\n",
    "norm.cdf(1) == 1-norm.cdf(-1)"
   ]
  },
  {
   "cell_type": "code",
   "execution_count": 4,
   "metadata": {},
   "outputs": [
    {
     "name": "stdout",
     "output_type": "stream",
     "text": [
      "P[-2 < Y < 1] = 0.3780661222713134\n",
      "P[Y > 5.5] = 0.03337650758481725\n"
     ]
    }
   ],
   "source": [
    "#Exercise 1\n",
    "print(\"P[-2 < Y < 1] =\", norm.cdf(1, loc=0, scale=3) - norm.cdf(-2, loc=0, scale=3))\n",
    "print(\"P[Y > 5.5] =\", 1-norm.cdf(5.5, loc=0, scale=3))"
   ]
  },
  {
   "cell_type": "code",
   "execution_count": 5,
   "metadata": {},
   "outputs": [
    {
     "name": "stdout",
     "output_type": "stream",
     "text": [
      "P[-2 < X < 2] = 0.9544997361036416\n",
      "P[X > 1.5] = 0.06680720126885809\n"
     ]
    }
   ],
   "source": [
    "#Exercise 1\n",
    "print(\"P[-2 < X < 2] =\", norm.cdf(2)-(1-norm.cdf(2)))\n",
    "print(\"P[X > 1.5] =\", 1-norm.cdf(1.5))"
   ]
  },
  {
   "cell_type": "code",
   "execution_count": 6,
   "metadata": {},
   "outputs": [
    {
     "name": "stdout",
     "output_type": "stream",
     "text": [
      "P[X > 35] = 0.32471814186337733\n",
      "P[X < 5] = 0.01152131004388092\n",
      "P[20 < X < 40] = 0.6366978591131021\n"
     ]
    }
   ],
   "source": [
    "#Exercise 2\n",
    "mu = 30\n",
    "sigma = 11\n",
    "print(\"P[X > 35] =\", 1-norm.cdf(35, loc=mu, scale=sigma))\n",
    "print(\"P[X < 5] =\", norm.cdf(5, loc=mu, scale=sigma))\n",
    "print(\"P[20 < X < 40] =\", norm.cdf(40, loc=mu, scale=sigma)-norm.cdf(20, loc=mu, scale=sigma))"
   ]
  },
  {
   "cell_type": "code",
   "execution_count": 7,
   "metadata": {},
   "outputs": [
    {
     "data": {
      "text/plain": [
       "0.30001332994289687"
      ]
     },
     "execution_count": 7,
     "metadata": {},
     "output_type": "execute_result"
    }
   ],
   "source": [
    "#Exercise 3\n",
    "#P[|X| < 10] = 0.3 -> P[-10 < X < 10] = 0.3 -> P[ -10/theta < X/theta < 10/theta] = 0.3\n",
    "#norm.cdf(10/theta, loc=mu, scale =?) - (1-norm.cdf(10/theta, loc=mu, scale=?)) = 0.3\n",
    "#2*norm.cdf(10/theta) - 1 = 0.3 -> 2*norm.cdf(10/theta, loc=0, scale=?) = 0.65\n",
    "theta = 10/norm.ppf(0.65)\n",
    "norm.cdf(10, loc=0, scale=25.95)-norm.cdf(-10, loc=0, scale=theta)"
   ]
  },
  {
   "cell_type": "markdown",
   "metadata": {},
   "source": [
    "That value confirms that we found the correct theta value"
   ]
  },
  {
   "cell_type": "code",
   "execution_count": 127,
   "metadata": {},
   "outputs": [
    {
     "name": "stdout",
     "output_type": "stream",
     "text": [
      "True\n",
      "True\n",
      "0.5049342644276007\n",
      "True\n"
     ]
    }
   ],
   "source": [
    "#Exercise 4\n",
    "from scipy import special\n",
    "x = norm.rvs()\n",
    "print(special.erfc(x) == 1-special.erf(x)) #erf is the complement of erfc\n",
    "print(norm.sf(x) == 1-norm.cdf(x)) #Qfunction is the complement of CDF\n",
    "print(0.5*special.erfc(x/np.sqrt(2))) #the definition of Q(n) given\n",
    "print(0.5*special.erfc(x/np.sqrt(2)) == norm.sf(x)) #they are equivalent"
   ]
  },
  {
   "cell_type": "code",
   "execution_count": 22,
   "metadata": {},
   "outputs": [
    {
     "name": "stdout",
     "output_type": "stream",
     "text": [
      "If the threshold is 0.22998679773673578, then the probability of correct detection is:  0.3703029550370346\n"
     ]
    }
   ],
   "source": [
    "#Exercise 5\n",
    "Z = np.random.random() #distribution from normal\n",
    "H0 = Z\n",
    "mu = 1\n",
    "H1 = mu + Z\n",
    "\n",
    "#determine the separation threshold\n",
    "thresh = norm.pdf(H1)/norm.pdf(H0)\n",
    "\n",
    "#determine the probability of correct detection\n",
    "pm = norm.cdf(thresh-mu)\n",
    "pf = 1 - norm.cdf(thresh)\n",
    "pm = (pf + pm)\n",
    "ps = 1 - pm\n",
    "print(\"If the threshold is {0}, then the probability of correct detection is: \".format(thresh), ps)"
   ]
  },
  {
   "cell_type": "code",
   "execution_count": 10,
   "metadata": {},
   "outputs": [
    {
     "data": {
      "image/png": "[encoded data removed]",
      "text/plain": [
       "<Figure size 432x288 with 1 Axes>"
      ]
     },
     "metadata": {
      "needs_background": "light"
     },
     "output_type": "display_data"
    }
   ],
   "source": [
    "#Exercise 6\n",
    "Z = np.random.random() #distribution from normal\n",
    "\n",
    "pd_ = []\n",
    "for v in range (0,3):\n",
    "    H0 = Z\n",
    "    H1 = v + Z\n",
    "    x = []\n",
    "    y = []\n",
    "    for i in range(0, 11):\n",
    "\n",
    "        thresh = 0.1*i\n",
    "\n",
    "        pm = norm.cdf(thresh-v)\n",
    "        pf = 1 - norm.cdf(thresh)\n",
    "        pd = 1 - (pm + pf)\n",
    "\n",
    "        x.append(pf)\n",
    "        y.append(pm)\n",
    "        pd_.append(pd)\n",
    "    \n",
    "    plt.plot(x,y, label=\"{0}\".format(v))\n",
    "    \n",
    "plt.xlabel(\"pf\")\n",
    "plt.ylabel(\"pm\")\n",
    "plt.title(\"ROC Curve\")\n",
    "plt.legend()\n",
    "plt.show()"
   ]
  },
  {
   "cell_type": "code",
   "execution_count": 11,
   "metadata": {},
   "outputs": [
    {
     "name": "stdout",
     "output_type": "stream",
     "text": [
      "[0.0, 0.0, 0.0, 0.0, 0.0, 0.0, 0.0, 0.0, 0.0, 0.0, 0.0]\n",
      "[0.3413447460685429, 0.35576771193026957, 0.36740431085570635, 0.37594776996587964, 0.3811686238602505, 0.38292492254802624, 0.3811686238602505, 0.37594776996587953, 0.36740431085570635, 0.35576771193026946, 0.3413447460685429, 0.4772498680518208]\n",
      "[0.5111112774610271, 0.5433293903261772, 0.5733459594304096, 0.6006224499107662, 0.624655260005155, 0.6449902230161554, 0.6612358631913166, 0.6730749311948951, 0.6802738137068578, 0.6826894921370859]\n"
     ]
    }
   ],
   "source": [
    "print(pd_[0:11])\n",
    "print(pd_[11:23])\n",
    "print(pd_[23:])"
   ]
  },
  {
   "cell_type": "markdown",
   "metadata": {},
   "source": [
    "As we can see, the more separation (meaning the mean increasing from 0->2) the easier it is to separate and predict the values, and we can see that pd significantly increases compared to pf."
   ]
  },
  {
   "cell_type": "code",
   "execution_count": 124,
   "metadata": {},
   "outputs": [],
   "source": [
    "#Exercise 7\n",
    "\n",
    "alpha = 0.1\n",
    "X = np.random.binomial(1,0.5,size=1000)\n",
    "V = np.random.exponential(size=1000)\n",
    "W = np.random.exponential(size=1000)\n",
    "\n",
    "#hypothesis\n",
    "H0 = W\n",
    "H1 = V*X + W\n",
    "\n",
    "#minimize perr\n",
    "ratio = H0/H1"
   ]
  },
  {
   "cell_type": "code",
   "execution_count": 126,
   "metadata": {},
   "outputs": [
    {
     "data": {
      "text/plain": [
       "array([0.80416836, 0.34787984, 0.60011614, 0.95821729, 1.        ,\n",
       "       1.        , 0.77987666, 0.21672104, 1.        , 0.79724172,\n",
       "       0.93392316, 0.39583814, 1.        , 0.19759136, 0.61670537,\n",
       "       1.        , 0.13566689, 0.36975021, 1.        , 1.        ,\n",
       "       0.78110295, 0.71257325, 1.        , 0.50824509, 1.        ,\n",
       "       0.02939614, 0.91916565, 0.90226303, 0.01245768, 0.62821692,\n",
       "       0.27174629, 1.        , 1.        , 1.        , 0.54781076,\n",
       "       1.        , 0.67522922, 0.94577825, 0.48097383, 1.        ,\n",
       "       0.08883207, 0.10840506, 0.73008318, 0.48112476, 1.        ,\n",
       "       1.        , 1.        , 1.        , 1.        , 1.        ,\n",
       "       1.        , 0.91901034, 1.        , 0.60293483, 1.        ,\n",
       "       1.        , 0.91036241, 1.        , 0.50067974, 1.        ,\n",
       "       0.13903082, 0.24330761, 1.        , 0.31289937, 1.        ,\n",
       "       1.        , 1.        , 0.45860469, 1.        , 1.        ,\n",
       "       1.        , 1.        , 1.        , 0.94244495, 0.60524704,\n",
       "       0.72242475, 1.        , 0.61954238, 1.        , 0.86966422,\n",
       "       1.        , 0.33635698, 0.92337388, 0.58352495, 1.        ,\n",
       "       0.54195041, 0.24248967, 1.        , 0.92768421, 0.0763046 ,\n",
       "       0.10887817, 0.95307171, 0.13659622, 0.28052956, 0.0020687 ,\n",
       "       0.9836871 , 1.        , 0.35804617, 1.        , 1.        ,\n",
       "       1.        , 0.11235606, 1.        , 0.92365457, 0.83060294,\n",
       "       0.29434823, 0.30705461, 0.32338176, 1.        , 0.72630541,\n",
       "       0.94516676, 1.        , 1.        , 1.        , 1.        ,\n",
       "       0.1615394 , 1.        , 1.        , 1.        , 1.        ,\n",
       "       1.        , 1.        , 0.68816026, 0.70108499, 0.70175276,\n",
       "       0.74968068, 0.14965254, 1.        , 1.        , 0.40552999,\n",
       "       0.72766315, 0.00281657, 1.        , 1.        , 0.85745003,\n",
       "       1.        , 0.11871377, 0.22997521, 0.12187155, 0.52556447,\n",
       "       0.48655534, 1.        , 1.        , 1.        , 0.12174082,\n",
       "       1.        , 1.        , 1.        , 1.        , 1.        ,\n",
       "       0.3541317 , 0.62745059, 0.63808187, 0.50371703, 0.0713238 ,\n",
       "       1.        , 0.12445799, 0.07487221, 1.        , 1.        ,\n",
       "       1.        , 1.        , 1.        , 1.        , 1.        ,\n",
       "       0.58821766, 1.        , 0.90276981, 0.75274386, 1.        ,\n",
       "       0.11933555, 0.52032186, 0.7930557 , 1.        , 1.        ,\n",
       "       0.56688773, 1.        , 1.        , 1.        , 1.        ,\n",
       "       1.        , 0.39636372, 0.91507576, 1.        , 1.        ,\n",
       "       0.58868434, 0.84262151, 1.        , 1.        , 1.        ,\n",
       "       0.13040477, 0.45493461, 0.76920374, 1.        , 1.        ,\n",
       "       1.        , 0.30681369, 0.24740119, 1.        , 0.43958224,\n",
       "       1.        , 0.87785903, 1.        , 1.        , 1.        ,\n",
       "       0.82666881, 1.        , 0.81062662, 1.        , 0.85816023,\n",
       "       1.        , 0.88318197, 0.73260696, 0.83352334, 1.        ,\n",
       "       0.77218429, 0.02951785, 1.        , 0.13986343, 1.        ,\n",
       "       1.        , 1.        , 0.27094025, 0.71984626, 0.7808079 ,\n",
       "       1.        , 0.32033105, 0.33222395, 0.32087937, 1.        ,\n",
       "       1.        , 1.        , 0.14467066, 1.        , 0.76365916,\n",
       "       0.85317941, 1.        , 1.        , 1.        , 0.41826907,\n",
       "       0.91327279, 1.        , 0.16321575, 1.        , 0.56954187,\n",
       "       0.30465477, 1.        , 1.        , 1.        , 1.        ,\n",
       "       0.93666419, 0.92663692, 0.5545667 , 1.        , 0.50953498,\n",
       "       1.        , 0.63493991, 1.        , 0.85002806, 1.        ,\n",
       "       0.85288011, 1.        , 0.17788654, 1.        , 0.91847695,\n",
       "       0.28644128, 0.90290941, 0.91069748, 0.89776972, 1.        ,\n",
       "       1.        , 0.9529035 , 0.7508604 , 1.        , 0.86408545,\n",
       "       0.2216905 , 1.        , 1.        , 1.        , 0.37858053,\n",
       "       0.68050264, 1.        , 1.        , 0.3637427 , 1.        ,\n",
       "       0.48175678, 0.08720217, 0.32810032, 0.97525932, 1.        ,\n",
       "       0.00351843, 1.        , 1.        , 1.        , 0.74910297,\n",
       "       0.42992868, 1.        , 0.50854028, 0.14669386, 0.26216747,\n",
       "       0.16423329, 0.17113381, 1.        , 0.07359022, 0.60725825,\n",
       "       0.66876402, 0.70865994, 1.        , 1.        , 0.89726641,\n",
       "       0.9249754 , 0.79719674, 0.99509225, 0.66709438, 1.        ,\n",
       "       1.        , 0.57449458, 1.        , 0.30462213, 1.        ,\n",
       "       0.7131704 , 1.        , 0.97071314, 0.01799764, 1.        ,\n",
       "       0.68428995, 0.43077167, 1.        , 1.        , 0.63737844,\n",
       "       1.        , 0.87728095, 0.51660181, 1.        , 1.        ,\n",
       "       1.        , 1.        , 0.13466206, 0.414619  , 1.        ,\n",
       "       0.62674471, 0.46275013, 0.26047881, 0.95046993, 1.        ,\n",
       "       1.        , 1.        , 1.        , 1.        , 1.        ,\n",
       "       1.        , 0.25250459, 1.        , 1.        , 0.52763604,\n",
       "       1.        , 1.        , 0.78466664, 1.        , 0.4928404 ,\n",
       "       1.        , 0.8840174 , 1.        , 1.        , 1.        ,\n",
       "       1.        , 1.        , 1.        , 0.20724069, 1.        ,\n",
       "       0.90604819, 0.02299228, 1.        , 1.        , 0.32743788,\n",
       "       1.        , 1.        , 0.39541891, 1.        , 1.        ,\n",
       "       0.73056234, 1.        , 0.51548328, 0.521981  , 1.        ,\n",
       "       1.        , 0.69035627, 1.        , 0.34721945, 0.7108065 ,\n",
       "       1.        , 0.41775894, 0.30906772, 0.50133046, 0.7323667 ,\n",
       "       0.83489726, 0.52348988, 1.        , 0.35569207, 1.        ,\n",
       "       0.23884967, 1.        , 0.28011602, 1.        , 1.        ,\n",
       "       0.78980074, 0.27390764, 0.49172596, 0.59229589, 0.74683635,\n",
       "       0.81491635, 0.80311502, 1.        , 1.        , 1.        ,\n",
       "       1.        , 0.47252306, 0.45081249, 1.        , 1.        ,\n",
       "       1.        , 1.        , 0.90781789, 0.61388827, 1.        ,\n",
       "       1.        , 0.44353133, 0.25855499, 1.        , 0.55220263,\n",
       "       1.        , 1.        , 0.96215113, 1.        , 0.21155155,\n",
       "       1.        , 1.        , 1.        , 0.4658926 , 1.        ,\n",
       "       1.        , 1.        , 0.89330945, 0.70801728, 0.22244495,\n",
       "       0.81318069, 1.        , 0.93324955, 0.89394653, 1.        ,\n",
       "       0.06538716, 1.        , 0.24703699, 1.        , 0.27553682,\n",
       "       1.        , 0.37222148, 0.08836351, 1.        , 1.        ,\n",
       "       1.        , 1.        , 1.        , 0.1658244 , 0.64784192,\n",
       "       1.        , 1.        , 1.        , 0.56813429, 0.97596108,\n",
       "       1.        , 1.        , 0.9643401 , 0.33487986, 1.        ,\n",
       "       1.        , 1.        , 1.        , 1.        , 0.07011093,\n",
       "       0.65502312, 0.12329783, 1.        , 1.        , 0.60630337,\n",
       "       1.        , 0.30154993, 0.15760624, 0.64659425, 1.        ,\n",
       "       0.41201723, 1.        , 1.        , 0.05929049, 1.        ,\n",
       "       0.77288666, 0.40456334, 0.75536378, 1.        , 1.        ,\n",
       "       0.30409007, 1.        , 0.72434455, 1.        , 1.        ,\n",
       "       1.        , 0.23245854, 0.71252438, 0.07936025, 1.        ,\n",
       "       0.45976477, 0.21565827, 0.27308433, 1.        , 1.        ,\n",
       "       0.72056142, 1.        , 1.        , 0.38162541, 1.        ,\n",
       "       1.        , 1.        , 1.        , 1.        , 0.36312015,\n",
       "       0.99383285, 0.39820009, 1.        , 1.        , 1.        ,\n",
       "       0.33773229, 0.52966874, 1.        , 1.        , 1.        ,\n",
       "       1.        , 0.85393796, 1.        , 1.        , 1.        ,\n",
       "       1.        , 0.21218253, 0.48586835, 0.65726317, 1.        ,\n",
       "       1.        , 0.04380783, 1.        , 0.91712759, 0.92321051,\n",
       "       0.9327821 , 0.14573469, 0.10975231, 1.        , 1.        ,\n",
       "       0.27596784, 0.63083011, 0.2404379 , 0.76148756, 0.7905918 ,\n",
       "       0.90790295, 1.        , 1.        , 0.80925741, 1.        ,\n",
       "       1.        , 0.30844501, 1.        , 0.74720747, 0.23803595,\n",
       "       1.        , 1.        , 1.        , 0.69620841, 0.76221177,\n",
       "       0.26846877, 1.        , 1.        , 0.48099566, 1.        ,\n",
       "       1.        , 0.23379166, 0.71719256, 1.        , 1.        ,\n",
       "       1.        , 0.50332296, 1.        , 1.        , 0.80395703,\n",
       "       0.0746382 , 0.45411513, 0.28353865, 0.16467025, 0.80851241,\n",
       "       0.34123666, 1.        , 1.        , 1.        , 1.        ,\n",
       "       0.59012654, 0.52270256, 0.88096386, 0.93385383, 0.99993582,\n",
       "       0.231094  , 1.        , 0.47833759, 1.        , 1.        ,\n",
       "       0.56005116, 1.        , 0.0923506 , 0.54307908, 0.86215707,\n",
       "       0.83504631, 0.9531897 , 1.        , 0.33817859, 0.83802299,\n",
       "       0.11137209, 0.95209922, 0.32133957, 1.        , 0.15512326,\n",
       "       0.34839242, 1.        , 1.        , 1.        , 0.20217249,\n",
       "       0.35255348, 1.        , 1.        , 0.43673937, 0.59264338,\n",
       "       1.        , 0.31782019, 1.        , 1.        , 1.        ,\n",
       "       1.        , 1.        , 1.        , 0.35175088, 1.        ,\n",
       "       0.57765016, 1.        , 1.        , 1.        , 0.82588817,\n",
       "       1.        , 0.20936996, 0.44169304, 0.34535584, 0.42190946,\n",
       "       0.14537809, 0.48634881, 1.        , 1.        , 0.63765641,\n",
       "       0.23871974, 1.        , 0.76668399, 1.        , 0.66387846,\n",
       "       0.73766616, 0.84301882, 1.        , 0.36479852, 0.02444882,\n",
       "       1.        , 1.        , 1.        , 0.41856389, 0.31280304,\n",
       "       1.        , 1.        , 0.42743769, 1.        , 1.        ,\n",
       "       1.        , 0.31703932, 0.89212819, 0.3198665 , 0.24114637,\n",
       "       1.        , 1.        , 1.        , 1.        , 1.        ,\n",
       "       0.76014819, 1.        , 1.        , 1.        , 1.        ,\n",
       "       0.76234727, 1.        , 1.        , 0.02739303, 0.89952602,\n",
       "       0.52079057, 1.        , 0.30583593, 0.11251679, 1.        ,\n",
       "       1.        , 1.        , 0.76239407, 0.22709203, 0.79243579,\n",
       "       1.        , 1.        , 1.        , 0.50560434, 1.        ,\n",
       "       0.70163696, 1.        , 0.21068384, 0.6931965 , 1.        ,\n",
       "       0.61635616, 1.        , 0.11588658, 0.47363544, 1.        ,\n",
       "       1.        , 1.        , 1.        , 0.18551699, 1.        ,\n",
       "       0.40745806, 0.17484332, 1.        , 0.20141542, 0.17992992,\n",
       "       0.65780993, 0.04550613, 0.66814497, 0.03865179, 1.        ,\n",
       "       0.62919772, 0.75956123, 0.37113199, 1.        , 0.73562238,\n",
       "       1.        , 1.        , 1.        , 0.12959765, 0.22615231,\n",
       "       0.45204541, 1.        , 1.        , 0.8498647 , 0.92812703,\n",
       "       0.30919572, 1.        , 0.04740508, 1.        , 0.35738509,\n",
       "       1.        , 1.        , 0.34780247, 1.        , 1.        ,\n",
       "       0.57298579, 1.        , 1.        , 0.87669767, 0.79543963,\n",
       "       1.        , 0.33549558, 1.        , 1.        , 0.31957099,\n",
       "       1.        , 1.        , 0.20939033, 1.        , 1.        ,\n",
       "       0.67371614, 1.        , 1.        , 1.        , 1.        ,\n",
       "       0.18609607, 0.59665488, 1.        , 1.        , 0.26058846,\n",
       "       0.07051046, 0.52890316, 0.60045586, 1.        , 0.44185502,\n",
       "       1.        , 0.44075138, 0.98076649, 1.        , 0.12455967,\n",
       "       1.        , 0.97180167, 0.92139792, 0.0668002 , 1.        ,\n",
       "       1.        , 0.99045019, 1.        , 0.93725297, 0.46574214,\n",
       "       1.        , 1.        , 0.82644867, 0.17261783, 1.        ,\n",
       "       1.        , 0.32832294, 0.36856354, 0.54377702, 0.25568144,\n",
       "       0.99725515, 0.65967377, 0.49379648, 0.78587325, 1.        ,\n",
       "       0.83566171, 0.53785562, 0.73369659, 0.08372064, 0.90433943,\n",
       "       1.        , 1.        , 1.        , 1.        , 1.        ,\n",
       "       1.        , 0.81417966, 0.28460859, 0.84209779, 1.        ,\n",
       "       0.99904772, 0.81622682, 1.        , 1.        , 1.        ,\n",
       "       0.25545917, 0.46807443, 0.53394054, 0.95578361, 0.78573308,\n",
       "       1.        , 1.        , 0.29137875, 1.        , 0.15179412,\n",
       "       0.14774762, 1.        , 1.        , 1.        , 1.        ,\n",
       "       1.        , 0.18379604, 1.        , 0.99019489, 1.        ,\n",
       "       0.81379091, 1.        , 0.40864509, 1.        , 0.84074095,\n",
       "       1.        , 0.56349916, 0.8083128 , 0.84835788, 0.24328587,\n",
       "       0.7304455 , 1.        , 0.98394736, 1.        , 1.        ,\n",
       "       1.        , 1.        , 0.24623592, 1.        , 1.        ,\n",
       "       0.33687415, 1.        , 0.07376931, 1.        , 0.05745533,\n",
       "       0.56647828, 1.        , 1.        , 0.40131501, 0.87649367,\n",
       "       1.        , 0.48195291, 1.        , 0.87325005, 0.26514004,\n",
       "       1.        , 0.82925308, 1.        , 0.7928674 , 1.        ,\n",
       "       1.        , 1.        , 0.98268691, 0.27953352, 1.        ,\n",
       "       1.        , 1.        , 0.33511129, 0.56699383, 1.        ,\n",
       "       0.45994839, 1.        , 0.75457965, 1.        , 0.22417139,\n",
       "       0.12890927, 0.21440001, 1.        , 0.1928132 , 1.        ,\n",
       "       0.32456282, 0.4264821 , 0.22745109, 0.81707917, 0.25480374,\n",
       "       0.21337739, 1.        , 1.        , 1.        , 0.47172296,\n",
       "       0.29262447, 0.33991903, 1.        , 0.76465818, 1.        ,\n",
       "       1.        , 1.        , 0.69052209, 1.        , 1.        ,\n",
       "       1.        , 0.20783139, 1.        , 1.        , 0.45789607,\n",
       "       0.66895003, 0.58271484, 1.        , 0.40127564, 1.        ,\n",
       "       1.        , 1.        , 0.48952923, 0.40434098, 0.55219796,\n",
       "       1.        , 1.        , 1.        , 0.29747884, 0.85975793,\n",
       "       1.        , 1.        , 0.71663922, 0.47470904, 0.72804987,\n",
       "       0.32404973, 0.94570798, 1.        , 0.60424462, 1.        ,\n",
       "       0.51303224, 0.03271927, 1.        , 0.30944902, 0.53858748,\n",
       "       0.18462928, 0.21282306, 0.47551601, 1.        , 0.41909655,\n",
       "       1.        , 0.38660005, 0.70069079, 1.        , 1.        ,\n",
       "       1.        , 1.        , 1.        , 1.        , 0.63852037,\n",
       "       1.        , 0.18524074, 1.        , 0.19052307, 1.        ])"
      ]
     },
     "execution_count": 126,
     "metadata": {},
     "output_type": "execute_result"
    }
   ],
   "source": [
    "ratio"
   ]
  },
  {
   "cell_type": "markdown",
   "metadata": {},
   "source": [
    "Here we can see that when X = 0 as part of the bernoulli distribution,, it is inseparable.\n",
    "Therefore the only optimum decision rule to minimize perr is the threshold `theta = 1.0`"
   ]
  }
 ],
 "metadata": {
  "kernelspec": {
   "display_name": "Python 3",
   "language": "python",
   "name": "python3"
  },
  "language_info": {
   "codemirror_mode": {
    "name": "ipython",
    "version": 3
   },
   "file_extension": ".py",
   "mimetype": "text/x-python",
   "name": "python",
   "nbconvert_exporter": "python",
   "pygments_lexer": "ipython3",
   "version": "3.6.8"
  }
 },
 "nbformat": 4,
 "nbformat_minor": 2
}
