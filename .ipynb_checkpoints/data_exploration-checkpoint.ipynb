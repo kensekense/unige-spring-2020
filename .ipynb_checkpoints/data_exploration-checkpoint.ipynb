{
 "cells": [
  {
   "cell_type": "code",
   "execution_count": 2,
   "metadata": {},
   "outputs": [],
   "source": [
    "import numpy as np\n",
    "import pandas as pd\n",
    "import matplotlib.pyplot as plt"
   ]
  },
  {
   "cell_type": "code",
   "execution_count": 6,
   "metadata": {},
   "outputs": [],
   "source": [
    "data = pd.read_excel(\"collaborative_data.xlsx\")"
   ]
  },
  {
   "cell_type": "code",
   "execution_count": 8,
   "metadata": {},
   "outputs": [
    {
     "data": {
      "text/plain": [
       "9260"
      ]
     },
     "execution_count": 8,
     "metadata": {},
     "output_type": "execute_result"
    }
   ],
   "source": [
    "len(data)"
   ]
  },
  {
   "cell_type": "code",
   "execution_count": 9,
   "metadata": {},
   "outputs": [
    {
     "data": {
      "text/html": [
       "<div>\n",
       "<style scoped>\n",
       "    .dataframe tbody tr th:only-of-type {\n",
       "        vertical-align: middle;\n",
       "    }\n",
       "\n",
       "    .dataframe tbody tr th {\n",
       "        vertical-align: top;\n",
       "    }\n",
       "\n",
       "    .dataframe thead th {\n",
       "        text-align: right;\n",
       "    }\n",
       "</style>\n",
       "<table border=\"1\" class=\"dataframe\">\n",
       "  <thead>\n",
       "    <tr style=\"text-align: right;\">\n",
       "      <th></th>\n",
       "      <th>dyad</th>\n",
       "      <th>participant</th>\n",
       "      <th>eat</th>\n",
       "      <th>start.time</th>\n",
       "      <th>end.time</th>\n",
       "      <th>duration</th>\n",
       "      <th>raw.text</th>\n",
       "      <th>collaborative.processes</th>\n",
       "      <th>collaborative.categories</th>\n",
       "      <th>give.explanation</th>\n",
       "      <th>...</th>\n",
       "      <th>accept.coordination</th>\n",
       "      <th>use.social.convention</th>\n",
       "      <th>relax.atmosphere</th>\n",
       "      <th>check.reception</th>\n",
       "      <th>give.positive.opinion</th>\n",
       "      <th>shared.emotion</th>\n",
       "      <th>unix.time.video</th>\n",
       "      <th>excel.time.video</th>\n",
       "      <th>human.time.video</th>\n",
       "      <th>human.time.emotion</th>\n",
       "    </tr>\n",
       "  </thead>\n",
       "  <tbody>\n",
       "    <tr>\n",
       "      <th>0</th>\n",
       "      <td>D02</td>\n",
       "      <td>D02P01</td>\n",
       "      <td>Oui</td>\n",
       "      <td>8.390</td>\n",
       "      <td>9.110</td>\n",
       "      <td>0.72</td>\n",
       "      <td>tu m'entends?</td>\n",
       "      <td>check.reception</td>\n",
       "      <td>Interaction management</td>\n",
       "      <td>0</td>\n",
       "      <td>...</td>\n",
       "      <td>0</td>\n",
       "      <td>0</td>\n",
       "      <td>0</td>\n",
       "      <td>1</td>\n",
       "      <td>0</td>\n",
       "      <td>interested</td>\n",
       "      <td>1340111948</td>\n",
       "      <td>41079.55496</td>\n",
       "      <td>13:19:08</td>\n",
       "      <td>13:19:02</td>\n",
       "    </tr>\n",
       "    <tr>\n",
       "      <th>1</th>\n",
       "      <td>D02</td>\n",
       "      <td>D02P02</td>\n",
       "      <td>Oui</td>\n",
       "      <td>9.380</td>\n",
       "      <td>10.290</td>\n",
       "      <td>0.91</td>\n",
       "      <td>oui je t'entends</td>\n",
       "      <td>check.reception</td>\n",
       "      <td>Interaction management</td>\n",
       "      <td>0</td>\n",
       "      <td>...</td>\n",
       "      <td>0</td>\n",
       "      <td>0</td>\n",
       "      <td>0</td>\n",
       "      <td>1</td>\n",
       "      <td>0</td>\n",
       "      <td>focused</td>\n",
       "      <td>1340111949</td>\n",
       "      <td>41079.55497</td>\n",
       "      <td>13:19:09</td>\n",
       "      <td>13:19:04</td>\n",
       "    </tr>\n",
       "    <tr>\n",
       "      <th>2</th>\n",
       "      <td>D02</td>\n",
       "      <td>D02P01</td>\n",
       "      <td>Oui</td>\n",
       "      <td>10.300</td>\n",
       "      <td>10.650</td>\n",
       "      <td>0.35</td>\n",
       "      <td>ck</td>\n",
       "      <td>check.reception</td>\n",
       "      <td>Interaction management</td>\n",
       "      <td>0</td>\n",
       "      <td>...</td>\n",
       "      <td>0</td>\n",
       "      <td>0</td>\n",
       "      <td>0</td>\n",
       "      <td>1</td>\n",
       "      <td>0</td>\n",
       "      <td>NaN</td>\n",
       "      <td>1340111950</td>\n",
       "      <td>41079.55498</td>\n",
       "      <td>13:19:10</td>\n",
       "      <td>NaN</td>\n",
       "    </tr>\n",
       "    <tr>\n",
       "      <th>3</th>\n",
       "      <td>D02</td>\n",
       "      <td>D02P01</td>\n",
       "      <td>Oui</td>\n",
       "      <td>10.725</td>\n",
       "      <td>11.175</td>\n",
       "      <td>0.45</td>\n",
       "      <td>(rire)</td>\n",
       "      <td>relax.atmosphere</td>\n",
       "      <td>Social relation</td>\n",
       "      <td>0</td>\n",
       "      <td>...</td>\n",
       "      <td>0</td>\n",
       "      <td>0</td>\n",
       "      <td>1</td>\n",
       "      <td>0</td>\n",
       "      <td>0</td>\n",
       "      <td>NaN</td>\n",
       "      <td>1340111951</td>\n",
       "      <td>41079.55499</td>\n",
       "      <td>13:19:11</td>\n",
       "      <td>NaN</td>\n",
       "    </tr>\n",
       "    <tr>\n",
       "      <th>4</th>\n",
       "      <td>D02</td>\n",
       "      <td>D02P02</td>\n",
       "      <td>Oui</td>\n",
       "      <td>11.240</td>\n",
       "      <td>11.590</td>\n",
       "      <td>0.35</td>\n",
       "      <td>(rire)</td>\n",
       "      <td>relax.atmosphere</td>\n",
       "      <td>Social relation</td>\n",
       "      <td>0</td>\n",
       "      <td>...</td>\n",
       "      <td>0</td>\n",
       "      <td>0</td>\n",
       "      <td>1</td>\n",
       "      <td>0</td>\n",
       "      <td>0</td>\n",
       "      <td>NaN</td>\n",
       "      <td>1340111951</td>\n",
       "      <td>41079.55499</td>\n",
       "      <td>13:19:11</td>\n",
       "      <td>NaN</td>\n",
       "    </tr>\n",
       "  </tbody>\n",
       "</table>\n",
       "<p>5 rows × 42 columns</p>\n",
       "</div>"
      ],
      "text/plain": [
       "  dyad participant  eat  start.time  end.time  duration          raw.text  \\\n",
       "0  D02      D02P01  Oui       8.390     9.110      0.72     tu m'entends?   \n",
       "1  D02      D02P02  Oui       9.380    10.290      0.91  oui je t'entends   \n",
       "2  D02      D02P01  Oui      10.300    10.650      0.35                ck   \n",
       "3  D02      D02P01  Oui      10.725    11.175      0.45            (rire)   \n",
       "4  D02      D02P02  Oui      11.240    11.590      0.35            (rire)   \n",
       "\n",
       "  collaborative.processes collaborative.categories  give.explanation  \\\n",
       "0         check.reception   Interaction management                 0   \n",
       "1         check.reception   Interaction management                 0   \n",
       "2         check.reception   Interaction management                 0   \n",
       "3        relax.atmosphere          Social relation                 0   \n",
       "4        relax.atmosphere          Social relation                 0   \n",
       "\n",
       "          ...          accept.coordination  use.social.convention  \\\n",
       "0         ...                            0                      0   \n",
       "1         ...                            0                      0   \n",
       "2         ...                            0                      0   \n",
       "3         ...                            0                      0   \n",
       "4         ...                            0                      0   \n",
       "\n",
       "   relax.atmosphere  check.reception  give.positive.opinion  shared.emotion  \\\n",
       "0                 0                1                      0      interested   \n",
       "1                 0                1                      0         focused   \n",
       "2                 0                1                      0             NaN   \n",
       "3                 1                0                      0             NaN   \n",
       "4                 1                0                      0             NaN   \n",
       "\n",
       "   unix.time.video  excel.time.video  human.time.video  human.time.emotion  \n",
       "0       1340111948       41079.55496          13:19:08            13:19:02  \n",
       "1       1340111949       41079.55497          13:19:09            13:19:04  \n",
       "2       1340111950       41079.55498          13:19:10                 NaN  \n",
       "3       1340111951       41079.55499          13:19:11                 NaN  \n",
       "4       1340111951       41079.55499          13:19:11                 NaN  \n",
       "\n",
       "[5 rows x 42 columns]"
      ]
     },
     "execution_count": 9,
     "metadata": {},
     "output_type": "execute_result"
    }
   ],
   "source": [
    "data.head()"
   ]
  },
  {
   "cell_type": "code",
   "execution_count": 12,
   "metadata": {},
   "outputs": [
    {
     "data": {
      "text/plain": [
       "array(['Interaction management', 'Social relation', 'Task management',\n",
       "       'Information', 'Transactivity', 'Other', 'Tool',\n",
       "       'Outside activity'], dtype=object)"
      ]
     },
     "execution_count": 12,
     "metadata": {},
     "output_type": "execute_result"
    }
   ],
   "source": [
    "data[\"collaborative.categories\"].unique()"
   ]
  },
  {
   "cell_type": "code",
   "execution_count": 13,
   "metadata": {},
   "outputs": [
    {
     "data": {
      "text/plain": [
       "array(['check.reception', 'relax.atmosphere', 'use.social.convention',\n",
       "       'accept.coordination', 'display.reflection', 'manage.task',\n",
       "       'elicit.task.information', 'give.proposition',\n",
       "       'give.positive.opinion', 'display.active.listening', 'agree',\n",
       "       'give.task.information', 'other', 'coordinate.teamwork',\n",
       "       'give.recall', 'elicit.proposition', 'give.self.information',\n",
       "       'manage.tool', 'incorporate', 'elicit.recall', 'elicit.opinion',\n",
       "       'display.solidarity', 'elicit.partner.information',\n",
       "       'give.negative.opinion', 'check.comprehension',\n",
       "       'refuse.coordination', 'give.explanation', 'outside.activity',\n",
       "       'display.hostility'], dtype=object)"
      ]
     },
     "execution_count": 13,
     "metadata": {},
     "output_type": "execute_result"
    }
   ],
   "source": [
    "data[\"collaborative.processes\"].unique()"
   ]
  },
  {
   "cell_type": "code",
   "execution_count": null,
   "metadata": {},
   "outputs": [],
   "source": []
  }
 ],
 "metadata": {
  "kernelspec": {
   "display_name": "Python 3",
   "language": "python",
   "name": "python3"
  },
  "language_info": {
   "codemirror_mode": {
    "name": "ipython",
    "version": 3
   },
   "file_extension": ".py",
   "mimetype": "text/x-python",
   "name": "python",
   "nbconvert_exporter": "python",
   "pygments_lexer": "ipython3",
   "version": "3.6.8"
  }
 },
 "nbformat": 4,
 "nbformat_minor": 2
}
